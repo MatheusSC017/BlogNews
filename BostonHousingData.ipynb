{
  "nbformat": 4,
  "nbformat_minor": 0,
  "metadata": {
    "colab": {
      "name": "BostonHousingData.ipynb",
      "provenance": [],
      "collapsed_sections": [
        "54keIoAYYpT5",
        "PXArO9NRY37S",
        "qcp95QPrbwUS",
        "bHEsB0YET8gC",
        "CV0sfFRRJM0u",
        "wtTnmn51JRVh",
        "nGDk1yoKk8JO",
        "XIHtNfjMHIQH"
      ],
      "authorship_tag": "ABX9TyOEtiMXENfDoXaLMirwcGi9",
      "include_colab_link": true
    },
    "kernelspec": {
      "name": "python3",
      "display_name": "Python 3"
    },
    "language_info": {
      "name": "python"
    }
  },
  "cells": [
    {
      "cell_type": "markdown",
      "metadata": {
        "id": "view-in-github",
        "colab_type": "text"
      },
      "source": [
        "<a href=\"https://colab.research.google.com/github/MatheusSC017/Blog/blob/main/BostonHousingData.ipynb\" target=\"_parent\"><img src=\"https://colab.research.google.com/assets/colab-badge.svg\" alt=\"Open In Colab\"/></a>"
      ]
    },
    {
      "cell_type": "markdown",
      "source": [
        "# Boston Housing Data Regression"
      ],
      "metadata": {
        "id": "mon7gf_9YpIp"
      }
    },
    {
      "cell_type": "markdown",
      "source": [
        "## Libraries"
      ],
      "metadata": {
        "id": "54keIoAYYpT5"
      }
    },
    {
      "cell_type": "code",
      "execution_count": null,
      "metadata": {
        "id": "3v1k7CC09EPb"
      },
      "outputs": [],
      "source": [
        "from sklearn.datasets import load_boston\n",
        "from sklearn.preprocessing import QuantileTransformer\n",
        "from sklearn.decomposition import PCA\n",
        "from sklearn.feature_selection import SequentialFeatureSelector\n",
        "from sklearn.model_selection import (\n",
        "    train_test_split, \n",
        "    GridSearchCV\n",
        ")\n",
        "from sklearn.ensemble import (\n",
        "    GradientBoostingRegressor,\n",
        "    HistGradientBoostingRegressor,\n",
        "    AdaBoostRegressor, \n",
        "    RandomForestRegressor,\n",
        "    ExtraTreesRegressor,\n",
        ") \n",
        "from sklearn.pipeline import Pipeline\n",
        "from sklearn.metrics import mean_squared_error\n",
        "from matplotlib import pyplot as plt\n",
        "import seaborn as  sbn\n",
        "import numpy as np\n",
        "import pandas as pd"
      ]
    },
    {
      "cell_type": "markdown",
      "source": [
        "## Dataset Import\n",
        "We will import the Boston housing dataset through the load_boston() method of the SKLearn library, which will return an object containing the dataset information, such as feature name, data and target."
      ],
      "metadata": {
        "id": "PXArO9NRY37S"
      }
    },
    {
      "cell_type": "code",
      "source": [
        "boston_data = load_boston()"
      ],
      "metadata": {
        "colab": {
          "base_uri": "https://localhost:8080/"
        },
        "id": "NSzmqdbTY6gB",
        "outputId": "5140cc79-8966-43ca-d347-791ff036ef0d"
      },
      "execution_count": null,
      "outputs": [
        {
          "output_type": "stream",
          "name": "stderr",
          "text": [
            "/usr/local/lib/python3.7/dist-packages/sklearn/utils/deprecation.py:87: FutureWarning: Function load_boston is deprecated; `load_boston` is deprecated in 1.0 and will be removed in 1.2.\n",
            "\n",
            "    The Boston housing prices dataset has an ethical problem. You can refer to\n",
            "    the documentation of this function for further details.\n",
            "\n",
            "    The scikit-learn maintainers therefore strongly discourage the use of this\n",
            "    dataset unless the purpose of the code is to study and educate about\n",
            "    ethical issues in data science and machine learning.\n",
            "\n",
            "    In this special case, you can fetch the dataset from the original\n",
            "    source::\n",
            "\n",
            "        import pandas as pd\n",
            "        import numpy as np\n",
            "\n",
            "\n",
            "        data_url = \"http://lib.stat.cmu.edu/datasets/boston\"\n",
            "        raw_df = pd.read_csv(data_url, sep=\"\\s+\", skiprows=22, header=None)\n",
            "        data = np.hstack([raw_df.values[::2, :], raw_df.values[1::2, :2]])\n",
            "        target = raw_df.values[1::2, 2]\n",
            "\n",
            "    Alternative datasets include the California housing dataset (i.e.\n",
            "    :func:`~sklearn.datasets.fetch_california_housing`) and the Ames housing\n",
            "    dataset. You can load the datasets as follows::\n",
            "\n",
            "        from sklearn.datasets import fetch_california_housing\n",
            "        housing = fetch_california_housing()\n",
            "\n",
            "    for the California housing dataset and::\n",
            "\n",
            "        from sklearn.datasets import fetch_openml\n",
            "        housing = fetch_openml(name=\"house_prices\", as_frame=True)\n",
            "\n",
            "    for the Ames housing dataset.\n",
            "    \n",
            "  warnings.warn(msg, category=FutureWarning)\n"
          ]
        }
      ]
    },
    {
      "cell_type": "code",
      "source": [
        "boston_data.keys()"
      ],
      "metadata": {
        "colab": {
          "base_uri": "https://localhost:8080/"
        },
        "id": "ayXyn_Z1ZY1q",
        "outputId": "1223e2a4-e504-475f-dc1f-afedb769382f"
      },
      "execution_count": null,
      "outputs": [
        {
          "output_type": "execute_result",
          "data": {
            "text/plain": [
              "dict_keys(['data', 'target', 'feature_names', 'DESCR', 'filename', 'data_module'])"
            ]
          },
          "metadata": {},
          "execution_count": 3
        }
      ]
    },
    {
      "cell_type": "code",
      "source": [
        "print(boston_data.DESCR)"
      ],
      "metadata": {
        "colab": {
          "base_uri": "https://localhost:8080/"
        },
        "id": "QUuM5obwZ2n7",
        "outputId": "ed2d1287-00ea-418b-afea-b6a85ae47eb5"
      },
      "execution_count": null,
      "outputs": [
        {
          "output_type": "stream",
          "name": "stdout",
          "text": [
            ".. _boston_dataset:\n",
            "\n",
            "Boston house prices dataset\n",
            "---------------------------\n",
            "\n",
            "**Data Set Characteristics:**  \n",
            "\n",
            "    :Number of Instances: 506 \n",
            "\n",
            "    :Number of Attributes: 13 numeric/categorical predictive. Median Value (attribute 14) is usually the target.\n",
            "\n",
            "    :Attribute Information (in order):\n",
            "        - CRIM     per capita crime rate by town\n",
            "        - ZN       proportion of residential land zoned for lots over 25,000 sq.ft.\n",
            "        - INDUS    proportion of non-retail business acres per town\n",
            "        - CHAS     Charles River dummy variable (= 1 if tract bounds river; 0 otherwise)\n",
            "        - NOX      nitric oxides concentration (parts per 10 million)\n",
            "        - RM       average number of rooms per dwelling\n",
            "        - AGE      proportion of owner-occupied units built prior to 1940\n",
            "        - DIS      weighted distances to five Boston employment centres\n",
            "        - RAD      index of accessibility to radial highways\n",
            "        - TAX      full-value property-tax rate per $10,000\n",
            "        - PTRATIO  pupil-teacher ratio by town\n",
            "        - B        1000(Bk - 0.63)^2 where Bk is the proportion of black people by town\n",
            "        - LSTAT    % lower status of the population\n",
            "        - MEDV     Median value of owner-occupied homes in $1000's\n",
            "\n",
            "    :Missing Attribute Values: None\n",
            "\n",
            "    :Creator: Harrison, D. and Rubinfeld, D.L.\n",
            "\n",
            "This is a copy of UCI ML housing dataset.\n",
            "https://archive.ics.uci.edu/ml/machine-learning-databases/housing/\n",
            "\n",
            "\n",
            "This dataset was taken from the StatLib library which is maintained at Carnegie Mellon University.\n",
            "\n",
            "The Boston house-price data of Harrison, D. and Rubinfeld, D.L. 'Hedonic\n",
            "prices and the demand for clean air', J. Environ. Economics & Management,\n",
            "vol.5, 81-102, 1978.   Used in Belsley, Kuh & Welsch, 'Regression diagnostics\n",
            "...', Wiley, 1980.   N.B. Various transformations are used in the table on\n",
            "pages 244-261 of the latter.\n",
            "\n",
            "The Boston house-price data has been used in many machine learning papers that address regression\n",
            "problems.   \n",
            "     \n",
            ".. topic:: References\n",
            "\n",
            "   - Belsley, Kuh & Welsch, 'Regression diagnostics: Identifying Influential Data and Sources of Collinearity', Wiley, 1980. 244-261.\n",
            "   - Quinlan,R. (1993). Combining Instance-Based and Model-Based Learning. In Proceedings on the Tenth International Conference of Machine Learning, 236-243, University of Massachusetts, Amherst. Morgan Kaufmann.\n",
            "\n"
          ]
        }
      ]
    },
    {
      "cell_type": "code",
      "source": [
        "boston_df = pd.DataFrame(boston_data.data, columns=boston_data.feature_names)\n",
        "boston_df['Prices'] = boston_data.target\n",
        "boston_df"
      ],
      "metadata": {
        "colab": {
          "base_uri": "https://localhost:8080/"
        },
        "id": "RfpepE_8ZcQQ",
        "outputId": "f8262b7d-1100-44cb-ab6b-b89d8445cc8c"
      },
      "execution_count": null,
      "outputs": [
        {
          "output_type": "execute_result",
          "data": {
            "text/plain": [
              "        CRIM    ZN  INDUS  CHAS    NOX     RM   AGE     DIS  RAD    TAX  \\\n",
              "0    0.00632  18.0   2.31   0.0  0.538  6.575  65.2  4.0900  1.0  296.0   \n",
              "1    0.02731   0.0   7.07   0.0  0.469  6.421  78.9  4.9671  2.0  242.0   \n",
              "2    0.02729   0.0   7.07   0.0  0.469  7.185  61.1  4.9671  2.0  242.0   \n",
              "3    0.03237   0.0   2.18   0.0  0.458  6.998  45.8  6.0622  3.0  222.0   \n",
              "4    0.06905   0.0   2.18   0.0  0.458  7.147  54.2  6.0622  3.0  222.0   \n",
              "..       ...   ...    ...   ...    ...    ...   ...     ...  ...    ...   \n",
              "501  0.06263   0.0  11.93   0.0  0.573  6.593  69.1  2.4786  1.0  273.0   \n",
              "502  0.04527   0.0  11.93   0.0  0.573  6.120  76.7  2.2875  1.0  273.0   \n",
              "503  0.06076   0.0  11.93   0.0  0.573  6.976  91.0  2.1675  1.0  273.0   \n",
              "504  0.10959   0.0  11.93   0.0  0.573  6.794  89.3  2.3889  1.0  273.0   \n",
              "505  0.04741   0.0  11.93   0.0  0.573  6.030  80.8  2.5050  1.0  273.0   \n",
              "\n",
              "     PTRATIO       B  LSTAT  Prices  \n",
              "0       15.3  396.90   4.98    24.0  \n",
              "1       17.8  396.90   9.14    21.6  \n",
              "2       17.8  392.83   4.03    34.7  \n",
              "3       18.7  394.63   2.94    33.4  \n",
              "4       18.7  396.90   5.33    36.2  \n",
              "..       ...     ...    ...     ...  \n",
              "501     21.0  391.99   9.67    22.4  \n",
              "502     21.0  396.90   9.08    20.6  \n",
              "503     21.0  396.90   5.64    23.9  \n",
              "504     21.0  393.45   6.48    22.0  \n",
              "505     21.0  396.90   7.88    11.9  \n",
              "\n",
              "[506 rows x 14 columns]"
            ],
            "text/html": [
              "\n",
              "  <div id=\"df-810174c7-b7c6-44ec-b170-a4ba20196718\">\n",
              "    <div class=\"colab-df-container\">\n",
              "      <div>\n",
              "<style scoped>\n",
              "    .dataframe tbody tr th:only-of-type {\n",
              "        vertical-align: middle;\n",
              "    }\n",
              "\n",
              "    .dataframe tbody tr th {\n",
              "        vertical-align: top;\n",
              "    }\n",
              "\n",
              "    .dataframe thead th {\n",
              "        text-align: right;\n",
              "    }\n",
              "</style>\n",
              "<table border=\"1\" class=\"dataframe\">\n",
              "  <thead>\n",
              "    <tr style=\"text-align: right;\">\n",
              "      <th></th>\n",
              "      <th>CRIM</th>\n",
              "      <th>ZN</th>\n",
              "      <th>INDUS</th>\n",
              "      <th>CHAS</th>\n",
              "      <th>NOX</th>\n",
              "      <th>RM</th>\n",
              "      <th>AGE</th>\n",
              "      <th>DIS</th>\n",
              "      <th>RAD</th>\n",
              "      <th>TAX</th>\n",
              "      <th>PTRATIO</th>\n",
              "      <th>B</th>\n",
              "      <th>LSTAT</th>\n",
              "      <th>Prices</th>\n",
              "    </tr>\n",
              "  </thead>\n",
              "  <tbody>\n",
              "    <tr>\n",
              "      <th>0</th>\n",
              "      <td>0.00632</td>\n",
              "      <td>18.0</td>\n",
              "      <td>2.31</td>\n",
              "      <td>0.0</td>\n",
              "      <td>0.538</td>\n",
              "      <td>6.575</td>\n",
              "      <td>65.2</td>\n",
              "      <td>4.0900</td>\n",
              "      <td>1.0</td>\n",
              "      <td>296.0</td>\n",
              "      <td>15.3</td>\n",
              "      <td>396.90</td>\n",
              "      <td>4.98</td>\n",
              "      <td>24.0</td>\n",
              "    </tr>\n",
              "    <tr>\n",
              "      <th>1</th>\n",
              "      <td>0.02731</td>\n",
              "      <td>0.0</td>\n",
              "      <td>7.07</td>\n",
              "      <td>0.0</td>\n",
              "      <td>0.469</td>\n",
              "      <td>6.421</td>\n",
              "      <td>78.9</td>\n",
              "      <td>4.9671</td>\n",
              "      <td>2.0</td>\n",
              "      <td>242.0</td>\n",
              "      <td>17.8</td>\n",
              "      <td>396.90</td>\n",
              "      <td>9.14</td>\n",
              "      <td>21.6</td>\n",
              "    </tr>\n",
              "    <tr>\n",
              "      <th>2</th>\n",
              "      <td>0.02729</td>\n",
              "      <td>0.0</td>\n",
              "      <td>7.07</td>\n",
              "      <td>0.0</td>\n",
              "      <td>0.469</td>\n",
              "      <td>7.185</td>\n",
              "      <td>61.1</td>\n",
              "      <td>4.9671</td>\n",
              "      <td>2.0</td>\n",
              "      <td>242.0</td>\n",
              "      <td>17.8</td>\n",
              "      <td>392.83</td>\n",
              "      <td>4.03</td>\n",
              "      <td>34.7</td>\n",
              "    </tr>\n",
              "    <tr>\n",
              "      <th>3</th>\n",
              "      <td>0.03237</td>\n",
              "      <td>0.0</td>\n",
              "      <td>2.18</td>\n",
              "      <td>0.0</td>\n",
              "      <td>0.458</td>\n",
              "      <td>6.998</td>\n",
              "      <td>45.8</td>\n",
              "      <td>6.0622</td>\n",
              "      <td>3.0</td>\n",
              "      <td>222.0</td>\n",
              "      <td>18.7</td>\n",
              "      <td>394.63</td>\n",
              "      <td>2.94</td>\n",
              "      <td>33.4</td>\n",
              "    </tr>\n",
              "    <tr>\n",
              "      <th>4</th>\n",
              "      <td>0.06905</td>\n",
              "      <td>0.0</td>\n",
              "      <td>2.18</td>\n",
              "      <td>0.0</td>\n",
              "      <td>0.458</td>\n",
              "      <td>7.147</td>\n",
              "      <td>54.2</td>\n",
              "      <td>6.0622</td>\n",
              "      <td>3.0</td>\n",
              "      <td>222.0</td>\n",
              "      <td>18.7</td>\n",
              "      <td>396.90</td>\n",
              "      <td>5.33</td>\n",
              "      <td>36.2</td>\n",
              "    </tr>\n",
              "    <tr>\n",
              "      <th>...</th>\n",
              "      <td>...</td>\n",
              "      <td>...</td>\n",
              "      <td>...</td>\n",
              "      <td>...</td>\n",
              "      <td>...</td>\n",
              "      <td>...</td>\n",
              "      <td>...</td>\n",
              "      <td>...</td>\n",
              "      <td>...</td>\n",
              "      <td>...</td>\n",
              "      <td>...</td>\n",
              "      <td>...</td>\n",
              "      <td>...</td>\n",
              "      <td>...</td>\n",
              "    </tr>\n",
              "    <tr>\n",
              "      <th>501</th>\n",
              "      <td>0.06263</td>\n",
              "      <td>0.0</td>\n",
              "      <td>11.93</td>\n",
              "      <td>0.0</td>\n",
              "      <td>0.573</td>\n",
              "      <td>6.593</td>\n",
              "      <td>69.1</td>\n",
              "      <td>2.4786</td>\n",
              "      <td>1.0</td>\n",
              "      <td>273.0</td>\n",
              "      <td>21.0</td>\n",
              "      <td>391.99</td>\n",
              "      <td>9.67</td>\n",
              "      <td>22.4</td>\n",
              "    </tr>\n",
              "    <tr>\n",
              "      <th>502</th>\n",
              "      <td>0.04527</td>\n",
              "      <td>0.0</td>\n",
              "      <td>11.93</td>\n",
              "      <td>0.0</td>\n",
              "      <td>0.573</td>\n",
              "      <td>6.120</td>\n",
              "      <td>76.7</td>\n",
              "      <td>2.2875</td>\n",
              "      <td>1.0</td>\n",
              "      <td>273.0</td>\n",
              "      <td>21.0</td>\n",
              "      <td>396.90</td>\n",
              "      <td>9.08</td>\n",
              "      <td>20.6</td>\n",
              "    </tr>\n",
              "    <tr>\n",
              "      <th>503</th>\n",
              "      <td>0.06076</td>\n",
              "      <td>0.0</td>\n",
              "      <td>11.93</td>\n",
              "      <td>0.0</td>\n",
              "      <td>0.573</td>\n",
              "      <td>6.976</td>\n",
              "      <td>91.0</td>\n",
              "      <td>2.1675</td>\n",
              "      <td>1.0</td>\n",
              "      <td>273.0</td>\n",
              "      <td>21.0</td>\n",
              "      <td>396.90</td>\n",
              "      <td>5.64</td>\n",
              "      <td>23.9</td>\n",
              "    </tr>\n",
              "    <tr>\n",
              "      <th>504</th>\n",
              "      <td>0.10959</td>\n",
              "      <td>0.0</td>\n",
              "      <td>11.93</td>\n",
              "      <td>0.0</td>\n",
              "      <td>0.573</td>\n",
              "      <td>6.794</td>\n",
              "      <td>89.3</td>\n",
              "      <td>2.3889</td>\n",
              "      <td>1.0</td>\n",
              "      <td>273.0</td>\n",
              "      <td>21.0</td>\n",
              "      <td>393.45</td>\n",
              "      <td>6.48</td>\n",
              "      <td>22.0</td>\n",
              "    </tr>\n",
              "    <tr>\n",
              "      <th>505</th>\n",
              "      <td>0.04741</td>\n",
              "      <td>0.0</td>\n",
              "      <td>11.93</td>\n",
              "      <td>0.0</td>\n",
              "      <td>0.573</td>\n",
              "      <td>6.030</td>\n",
              "      <td>80.8</td>\n",
              "      <td>2.5050</td>\n",
              "      <td>1.0</td>\n",
              "      <td>273.0</td>\n",
              "      <td>21.0</td>\n",
              "      <td>396.90</td>\n",
              "      <td>7.88</td>\n",
              "      <td>11.9</td>\n",
              "    </tr>\n",
              "  </tbody>\n",
              "</table>\n",
              "<p>506 rows × 14 columns</p>\n",
              "</div>\n",
              "      <button class=\"colab-df-convert\" onclick=\"convertToInteractive('df-810174c7-b7c6-44ec-b170-a4ba20196718')\"\n",
              "              title=\"Convert this dataframe to an interactive table.\"\n",
              "              style=\"display:none;\">\n",
              "        \n",
              "  <svg xmlns=\"http://www.w3.org/2000/svg\" height=\"24px\"viewBox=\"0 0 24 24\"\n",
              "       width=\"24px\">\n",
              "    <path d=\"M0 0h24v24H0V0z\" fill=\"none\"/>\n",
              "    <path d=\"M18.56 5.44l.94 2.06.94-2.06 2.06-.94-2.06-.94-.94-2.06-.94 2.06-2.06.94zm-11 1L8.5 8.5l.94-2.06 2.06-.94-2.06-.94L8.5 2.5l-.94 2.06-2.06.94zm10 10l.94 2.06.94-2.06 2.06-.94-2.06-.94-.94-2.06-.94 2.06-2.06.94z\"/><path d=\"M17.41 7.96l-1.37-1.37c-.4-.4-.92-.59-1.43-.59-.52 0-1.04.2-1.43.59L10.3 9.45l-7.72 7.72c-.78.78-.78 2.05 0 2.83L4 21.41c.39.39.9.59 1.41.59.51 0 1.02-.2 1.41-.59l7.78-7.78 2.81-2.81c.8-.78.8-2.07 0-2.86zM5.41 20L4 18.59l7.72-7.72 1.47 1.35L5.41 20z\"/>\n",
              "  </svg>\n",
              "      </button>\n",
              "      \n",
              "  <style>\n",
              "    .colab-df-container {\n",
              "      display:flex;\n",
              "      flex-wrap:wrap;\n",
              "      gap: 12px;\n",
              "    }\n",
              "\n",
              "    .colab-df-convert {\n",
              "      background-color: #E8F0FE;\n",
              "      border: none;\n",
              "      border-radius: 50%;\n",
              "      cursor: pointer;\n",
              "      display: none;\n",
              "      fill: #1967D2;\n",
              "      height: 32px;\n",
              "      padding: 0 0 0 0;\n",
              "      width: 32px;\n",
              "    }\n",
              "\n",
              "    .colab-df-convert:hover {\n",
              "      background-color: #E2EBFA;\n",
              "      box-shadow: 0px 1px 2px rgba(60, 64, 67, 0.3), 0px 1px 3px 1px rgba(60, 64, 67, 0.15);\n",
              "      fill: #174EA6;\n",
              "    }\n",
              "\n",
              "    [theme=dark] .colab-df-convert {\n",
              "      background-color: #3B4455;\n",
              "      fill: #D2E3FC;\n",
              "    }\n",
              "\n",
              "    [theme=dark] .colab-df-convert:hover {\n",
              "      background-color: #434B5C;\n",
              "      box-shadow: 0px 1px 3px 1px rgba(0, 0, 0, 0.15);\n",
              "      filter: drop-shadow(0px 1px 2px rgba(0, 0, 0, 0.3));\n",
              "      fill: #FFFFFF;\n",
              "    }\n",
              "  </style>\n",
              "\n",
              "      <script>\n",
              "        const buttonEl =\n",
              "          document.querySelector('#df-810174c7-b7c6-44ec-b170-a4ba20196718 button.colab-df-convert');\n",
              "        buttonEl.style.display =\n",
              "          google.colab.kernel.accessAllowed ? 'block' : 'none';\n",
              "\n",
              "        async function convertToInteractive(key) {\n",
              "          const element = document.querySelector('#df-810174c7-b7c6-44ec-b170-a4ba20196718');\n",
              "          const dataTable =\n",
              "            await google.colab.kernel.invokeFunction('convertToInteractive',\n",
              "                                                     [key], {});\n",
              "          if (!dataTable) return;\n",
              "\n",
              "          const docLinkHtml = 'Like what you see? Visit the ' +\n",
              "            '<a target=\"_blank\" href=https://colab.research.google.com/notebooks/data_table.ipynb>data table notebook</a>'\n",
              "            + ' to learn more about interactive tables.';\n",
              "          element.innerHTML = '';\n",
              "          dataTable['output_type'] = 'display_data';\n",
              "          await google.colab.output.renderOutput(dataTable, element);\n",
              "          const docLink = document.createElement('div');\n",
              "          docLink.innerHTML = docLinkHtml;\n",
              "          element.appendChild(docLink);\n",
              "        }\n",
              "      </script>\n",
              "    </div>\n",
              "  </div>\n",
              "  "
            ]
          },
          "metadata": {},
          "execution_count": 5
        }
      ]
    },
    {
      "cell_type": "markdown",
      "source": [
        "## Data Clean\n",
        "Using the info() method of pandas.DataFrame we noticed that there are no missing values."
      ],
      "metadata": {
        "id": "qcp95QPrbwUS"
      }
    },
    {
      "cell_type": "code",
      "source": [
        "boston_df.info()"
      ],
      "metadata": {
        "colab": {
          "base_uri": "https://localhost:8080/"
        },
        "id": "SIdqSGRNaMkM",
        "outputId": "35a4116e-115c-4d43-ce5b-a01d94d91198"
      },
      "execution_count": null,
      "outputs": [
        {
          "output_type": "stream",
          "name": "stdout",
          "text": [
            "<class 'pandas.core.frame.DataFrame'>\n",
            "RangeIndex: 506 entries, 0 to 505\n",
            "Data columns (total 14 columns):\n",
            " #   Column   Non-Null Count  Dtype  \n",
            "---  ------   --------------  -----  \n",
            " 0   CRIM     506 non-null    float64\n",
            " 1   ZN       506 non-null    float64\n",
            " 2   INDUS    506 non-null    float64\n",
            " 3   CHAS     506 non-null    float64\n",
            " 4   NOX      506 non-null    float64\n",
            " 5   RM       506 non-null    float64\n",
            " 6   AGE      506 non-null    float64\n",
            " 7   DIS      506 non-null    float64\n",
            " 8   RAD      506 non-null    float64\n",
            " 9   TAX      506 non-null    float64\n",
            " 10  PTRATIO  506 non-null    float64\n",
            " 11  B        506 non-null    float64\n",
            " 12  LSTAT    506 non-null    float64\n",
            " 13  Prices   506 non-null    float64\n",
            "dtypes: float64(14)\n",
            "memory usage: 55.5 KB\n"
          ]
        }
      ]
    },
    {
      "cell_type": "markdown",
      "source": [
        "## Analyzing the raw data\n",
        "In this section we will analyze our raw data and check if it is necessary to normalize them, checking information such as distribution, outliers and general information (mean, std, min, max and quantiles)"
      ],
      "metadata": {
        "id": "pZ7MCEoSY3g2"
      }
    },
    {
      "cell_type": "markdown",
      "source": [
        "### Describe\n",
        "The DataFrame pandas describe() method, we will return general information about our data such as the mean, std, min, max and percentiles"
      ],
      "metadata": {
        "id": "ZLHlXfIvZIIX"
      }
    },
    {
      "cell_type": "code",
      "source": [
        "boston_df.describe()"
      ],
      "metadata": {
        "colab": {
          "base_uri": "https://localhost:8080/",
          "height": 364
        },
        "id": "qBCBbedHZD9p",
        "outputId": "7b4ea740-dfc8-4de7-dc2c-2ab4bb44ef0f"
      },
      "execution_count": null,
      "outputs": [
        {
          "output_type": "execute_result",
          "data": {
            "text/plain": [
              "             CRIM          ZN       INDUS        CHAS         NOX          RM  \\\n",
              "count  506.000000  506.000000  506.000000  506.000000  506.000000  506.000000   \n",
              "mean     3.613524   11.363636   11.136779    0.069170    0.554695    6.284634   \n",
              "std      8.601545   23.322453    6.860353    0.253994    0.115878    0.702617   \n",
              "min      0.006320    0.000000    0.460000    0.000000    0.385000    3.561000   \n",
              "25%      0.082045    0.000000    5.190000    0.000000    0.449000    5.885500   \n",
              "50%      0.256510    0.000000    9.690000    0.000000    0.538000    6.208500   \n",
              "75%      3.677083   12.500000   18.100000    0.000000    0.624000    6.623500   \n",
              "max     88.976200  100.000000   27.740000    1.000000    0.871000    8.780000   \n",
              "\n",
              "              AGE         DIS         RAD         TAX     PTRATIO           B  \\\n",
              "count  506.000000  506.000000  506.000000  506.000000  506.000000  506.000000   \n",
              "mean    68.574901    3.795043    9.549407  408.237154   18.455534  356.674032   \n",
              "std     28.148861    2.105710    8.707259  168.537116    2.164946   91.294864   \n",
              "min      2.900000    1.129600    1.000000  187.000000   12.600000    0.320000   \n",
              "25%     45.025000    2.100175    4.000000  279.000000   17.400000  375.377500   \n",
              "50%     77.500000    3.207450    5.000000  330.000000   19.050000  391.440000   \n",
              "75%     94.075000    5.188425   24.000000  666.000000   20.200000  396.225000   \n",
              "max    100.000000   12.126500   24.000000  711.000000   22.000000  396.900000   \n",
              "\n",
              "            LSTAT      Prices  \n",
              "count  506.000000  506.000000  \n",
              "mean    12.653063   22.532806  \n",
              "std      7.141062    9.197104  \n",
              "min      1.730000    5.000000  \n",
              "25%      6.950000   17.025000  \n",
              "50%     11.360000   21.200000  \n",
              "75%     16.955000   25.000000  \n",
              "max     37.970000   50.000000  "
            ],
            "text/html": [
              "\n",
              "  <div id=\"df-48061d3f-881c-440d-b222-feef7aa1b33c\">\n",
              "    <div class=\"colab-df-container\">\n",
              "      <div>\n",
              "<style scoped>\n",
              "    .dataframe tbody tr th:only-of-type {\n",
              "        vertical-align: middle;\n",
              "    }\n",
              "\n",
              "    .dataframe tbody tr th {\n",
              "        vertical-align: top;\n",
              "    }\n",
              "\n",
              "    .dataframe thead th {\n",
              "        text-align: right;\n",
              "    }\n",
              "</style>\n",
              "<table border=\"1\" class=\"dataframe\">\n",
              "  <thead>\n",
              "    <tr style=\"text-align: right;\">\n",
              "      <th></th>\n",
              "      <th>CRIM</th>\n",
              "      <th>ZN</th>\n",
              "      <th>INDUS</th>\n",
              "      <th>CHAS</th>\n",
              "      <th>NOX</th>\n",
              "      <th>RM</th>\n",
              "      <th>AGE</th>\n",
              "      <th>DIS</th>\n",
              "      <th>RAD</th>\n",
              "      <th>TAX</th>\n",
              "      <th>PTRATIO</th>\n",
              "      <th>B</th>\n",
              "      <th>LSTAT</th>\n",
              "      <th>Prices</th>\n",
              "    </tr>\n",
              "  </thead>\n",
              "  <tbody>\n",
              "    <tr>\n",
              "      <th>count</th>\n",
              "      <td>506.000000</td>\n",
              "      <td>506.000000</td>\n",
              "      <td>506.000000</td>\n",
              "      <td>506.000000</td>\n",
              "      <td>506.000000</td>\n",
              "      <td>506.000000</td>\n",
              "      <td>506.000000</td>\n",
              "      <td>506.000000</td>\n",
              "      <td>506.000000</td>\n",
              "      <td>506.000000</td>\n",
              "      <td>506.000000</td>\n",
              "      <td>506.000000</td>\n",
              "      <td>506.000000</td>\n",
              "      <td>506.000000</td>\n",
              "    </tr>\n",
              "    <tr>\n",
              "      <th>mean</th>\n",
              "      <td>3.613524</td>\n",
              "      <td>11.363636</td>\n",
              "      <td>11.136779</td>\n",
              "      <td>0.069170</td>\n",
              "      <td>0.554695</td>\n",
              "      <td>6.284634</td>\n",
              "      <td>68.574901</td>\n",
              "      <td>3.795043</td>\n",
              "      <td>9.549407</td>\n",
              "      <td>408.237154</td>\n",
              "      <td>18.455534</td>\n",
              "      <td>356.674032</td>\n",
              "      <td>12.653063</td>\n",
              "      <td>22.532806</td>\n",
              "    </tr>\n",
              "    <tr>\n",
              "      <th>std</th>\n",
              "      <td>8.601545</td>\n",
              "      <td>23.322453</td>\n",
              "      <td>6.860353</td>\n",
              "      <td>0.253994</td>\n",
              "      <td>0.115878</td>\n",
              "      <td>0.702617</td>\n",
              "      <td>28.148861</td>\n",
              "      <td>2.105710</td>\n",
              "      <td>8.707259</td>\n",
              "      <td>168.537116</td>\n",
              "      <td>2.164946</td>\n",
              "      <td>91.294864</td>\n",
              "      <td>7.141062</td>\n",
              "      <td>9.197104</td>\n",
              "    </tr>\n",
              "    <tr>\n",
              "      <th>min</th>\n",
              "      <td>0.006320</td>\n",
              "      <td>0.000000</td>\n",
              "      <td>0.460000</td>\n",
              "      <td>0.000000</td>\n",
              "      <td>0.385000</td>\n",
              "      <td>3.561000</td>\n",
              "      <td>2.900000</td>\n",
              "      <td>1.129600</td>\n",
              "      <td>1.000000</td>\n",
              "      <td>187.000000</td>\n",
              "      <td>12.600000</td>\n",
              "      <td>0.320000</td>\n",
              "      <td>1.730000</td>\n",
              "      <td>5.000000</td>\n",
              "    </tr>\n",
              "    <tr>\n",
              "      <th>25%</th>\n",
              "      <td>0.082045</td>\n",
              "      <td>0.000000</td>\n",
              "      <td>5.190000</td>\n",
              "      <td>0.000000</td>\n",
              "      <td>0.449000</td>\n",
              "      <td>5.885500</td>\n",
              "      <td>45.025000</td>\n",
              "      <td>2.100175</td>\n",
              "      <td>4.000000</td>\n",
              "      <td>279.000000</td>\n",
              "      <td>17.400000</td>\n",
              "      <td>375.377500</td>\n",
              "      <td>6.950000</td>\n",
              "      <td>17.025000</td>\n",
              "    </tr>\n",
              "    <tr>\n",
              "      <th>50%</th>\n",
              "      <td>0.256510</td>\n",
              "      <td>0.000000</td>\n",
              "      <td>9.690000</td>\n",
              "      <td>0.000000</td>\n",
              "      <td>0.538000</td>\n",
              "      <td>6.208500</td>\n",
              "      <td>77.500000</td>\n",
              "      <td>3.207450</td>\n",
              "      <td>5.000000</td>\n",
              "      <td>330.000000</td>\n",
              "      <td>19.050000</td>\n",
              "      <td>391.440000</td>\n",
              "      <td>11.360000</td>\n",
              "      <td>21.200000</td>\n",
              "    </tr>\n",
              "    <tr>\n",
              "      <th>75%</th>\n",
              "      <td>3.677083</td>\n",
              "      <td>12.500000</td>\n",
              "      <td>18.100000</td>\n",
              "      <td>0.000000</td>\n",
              "      <td>0.624000</td>\n",
              "      <td>6.623500</td>\n",
              "      <td>94.075000</td>\n",
              "      <td>5.188425</td>\n",
              "      <td>24.000000</td>\n",
              "      <td>666.000000</td>\n",
              "      <td>20.200000</td>\n",
              "      <td>396.225000</td>\n",
              "      <td>16.955000</td>\n",
              "      <td>25.000000</td>\n",
              "    </tr>\n",
              "    <tr>\n",
              "      <th>max</th>\n",
              "      <td>88.976200</td>\n",
              "      <td>100.000000</td>\n",
              "      <td>27.740000</td>\n",
              "      <td>1.000000</td>\n",
              "      <td>0.871000</td>\n",
              "      <td>8.780000</td>\n",
              "      <td>100.000000</td>\n",
              "      <td>12.126500</td>\n",
              "      <td>24.000000</td>\n",
              "      <td>711.000000</td>\n",
              "      <td>22.000000</td>\n",
              "      <td>396.900000</td>\n",
              "      <td>37.970000</td>\n",
              "      <td>50.000000</td>\n",
              "    </tr>\n",
              "  </tbody>\n",
              "</table>\n",
              "</div>\n",
              "      <button class=\"colab-df-convert\" onclick=\"convertToInteractive('df-48061d3f-881c-440d-b222-feef7aa1b33c')\"\n",
              "              title=\"Convert this dataframe to an interactive table.\"\n",
              "              style=\"display:none;\">\n",
              "        \n",
              "  <svg xmlns=\"http://www.w3.org/2000/svg\" height=\"24px\"viewBox=\"0 0 24 24\"\n",
              "       width=\"24px\">\n",
              "    <path d=\"M0 0h24v24H0V0z\" fill=\"none\"/>\n",
              "    <path d=\"M18.56 5.44l.94 2.06.94-2.06 2.06-.94-2.06-.94-.94-2.06-.94 2.06-2.06.94zm-11 1L8.5 8.5l.94-2.06 2.06-.94-2.06-.94L8.5 2.5l-.94 2.06-2.06.94zm10 10l.94 2.06.94-2.06 2.06-.94-2.06-.94-.94-2.06-.94 2.06-2.06.94z\"/><path d=\"M17.41 7.96l-1.37-1.37c-.4-.4-.92-.59-1.43-.59-.52 0-1.04.2-1.43.59L10.3 9.45l-7.72 7.72c-.78.78-.78 2.05 0 2.83L4 21.41c.39.39.9.59 1.41.59.51 0 1.02-.2 1.41-.59l7.78-7.78 2.81-2.81c.8-.78.8-2.07 0-2.86zM5.41 20L4 18.59l7.72-7.72 1.47 1.35L5.41 20z\"/>\n",
              "  </svg>\n",
              "      </button>\n",
              "      \n",
              "  <style>\n",
              "    .colab-df-container {\n",
              "      display:flex;\n",
              "      flex-wrap:wrap;\n",
              "      gap: 12px;\n",
              "    }\n",
              "\n",
              "    .colab-df-convert {\n",
              "      background-color: #E8F0FE;\n",
              "      border: none;\n",
              "      border-radius: 50%;\n",
              "      cursor: pointer;\n",
              "      display: none;\n",
              "      fill: #1967D2;\n",
              "      height: 32px;\n",
              "      padding: 0 0 0 0;\n",
              "      width: 32px;\n",
              "    }\n",
              "\n",
              "    .colab-df-convert:hover {\n",
              "      background-color: #E2EBFA;\n",
              "      box-shadow: 0px 1px 2px rgba(60, 64, 67, 0.3), 0px 1px 3px 1px rgba(60, 64, 67, 0.15);\n",
              "      fill: #174EA6;\n",
              "    }\n",
              "\n",
              "    [theme=dark] .colab-df-convert {\n",
              "      background-color: #3B4455;\n",
              "      fill: #D2E3FC;\n",
              "    }\n",
              "\n",
              "    [theme=dark] .colab-df-convert:hover {\n",
              "      background-color: #434B5C;\n",
              "      box-shadow: 0px 1px 3px 1px rgba(0, 0, 0, 0.15);\n",
              "      filter: drop-shadow(0px 1px 2px rgba(0, 0, 0, 0.3));\n",
              "      fill: #FFFFFF;\n",
              "    }\n",
              "  </style>\n",
              "\n",
              "      <script>\n",
              "        const buttonEl =\n",
              "          document.querySelector('#df-48061d3f-881c-440d-b222-feef7aa1b33c button.colab-df-convert');\n",
              "        buttonEl.style.display =\n",
              "          google.colab.kernel.accessAllowed ? 'block' : 'none';\n",
              "\n",
              "        async function convertToInteractive(key) {\n",
              "          const element = document.querySelector('#df-48061d3f-881c-440d-b222-feef7aa1b33c');\n",
              "          const dataTable =\n",
              "            await google.colab.kernel.invokeFunction('convertToInteractive',\n",
              "                                                     [key], {});\n",
              "          if (!dataTable) return;\n",
              "\n",
              "          const docLinkHtml = 'Like what you see? Visit the ' +\n",
              "            '<a target=\"_blank\" href=https://colab.research.google.com/notebooks/data_table.ipynb>data table notebook</a>'\n",
              "            + ' to learn more about interactive tables.';\n",
              "          element.innerHTML = '';\n",
              "          dataTable['output_type'] = 'display_data';\n",
              "          await google.colab.output.renderOutput(dataTable, element);\n",
              "          const docLink = document.createElement('div');\n",
              "          docLink.innerHTML = docLinkHtml;\n",
              "          element.appendChild(docLink);\n",
              "        }\n",
              "      </script>\n",
              "    </div>\n",
              "  </div>\n",
              "  "
            ]
          },
          "metadata": {},
          "execution_count": 7
        }
      ]
    },
    {
      "cell_type": "markdown",
      "source": [
        "### Data correlation\n",
        "Through the corr() method of Dataframe pandas and the seaborn library charts we will check how the resources are related to each other"
      ],
      "metadata": {
        "id": "6niqyKV8agzW"
      }
    },
    {
      "cell_type": "code",
      "source": [
        "boston_corr = boston_df.drop('Prices', axis=1).corr()\n",
        "sbn.clustermap(boston_corr)"
      ],
      "metadata": {
        "colab": {
          "base_uri": "https://localhost:8080/",
          "height": 747
        },
        "id": "xE0InL9waoy3",
        "outputId": "50d6354b-24e3-4dae-9538-601027607937"
      },
      "execution_count": null,
      "outputs": [
        {
          "output_type": "execute_result",
          "data": {
            "text/plain": [
              "<seaborn.matrix.ClusterGrid at 0x7efc23d6a590>"
            ]
          },
          "metadata": {},
          "execution_count": 8
        },
        {
          "output_type": "display_data",
          "data": {
            "text/plain": [
              "<Figure size 720x720 with 4 Axes>"
            ],
            "image/png": "[encoded data removed]"
          },
          "metadata": {
            "needs_background": "light"
          }
        }
      ]
    },
    {
      "cell_type": "markdown",
      "source": [
        "### Graphical analysis\n",
        "The next analysis to be carried out will be through the use of the type of BoxPlot graph that we will tell with the scale of the features, the presence of outliers and markings such as the mean and percentiles."
      ],
      "metadata": {
        "id": "LMTkUB-MekOj"
      }
    },
    {
      "cell_type": "code",
      "source": [
        "def plot_boxplot(figure, column, line, data, column_name, \n",
        "                 width=0.6, height=0.8):\n",
        "    figure.add_axes((column, line, 0.6, 0.8))\n",
        "    plt.ylabel(column_name)\n",
        "    plt.boxplot(data, widths=0.8)"
      ],
      "metadata": {
        "id": "vuKsywFOhDV5"
      },
      "execution_count": null,
      "outputs": []
    },
    {
      "cell_type": "code",
      "source": [
        "f = plt.figure(figsize=(4, 4))\n",
        "\n",
        "i = 0\n",
        "j = 0\n",
        "for feature in boston_df.drop('Prices', axis=1):\n",
        "    plot_boxplot(f, i, j, boston_df[feature], feature, width=0.8)\n",
        "    i += 1\n",
        "    if i == 7:\n",
        "        i = 0\n",
        "        j += 1"
      ],
      "metadata": {
        "colab": {
          "base_uri": "https://localhost:8080/",
          "height": 370
        },
        "id": "dJ6obVAWhD2n",
        "outputId": "c2824f24-a2a6-448e-f039-9e2e8dd65563"
      },
      "execution_count": null,
      "outputs": [
        {
          "output_type": "display_data",
          "data": {
            "text/plain": [
              "<Figure size 288x288 with 13 Axes>"
            ],
            "image/png": "[encoded data removed]"
          },
          "metadata": {
            "needs_background": "light"
          }
        }
      ]
    },
    {
      "cell_type": "markdown",
      "source": [
        "### Checking the outliers\n",
        "The function below can calculate the percentage of outliers present for the informed feature"
      ],
      "metadata": {
        "id": "WXaDWNdPeoJw"
      }
    },
    {
      "cell_type": "code",
      "source": [
        "def calc_outliers(data):\n",
        "    q1 = data.quantile(0.25)\n",
        "    q3 = data.quantile(0.75)\n",
        "\n",
        "    # interquartile range\n",
        "    iqr = q3 - q1\n",
        "\n",
        "    # upper interquartile range\n",
        "    uiqr = q3 + (iqr * 1.5)\n",
        "    # lower interquartile range\n",
        "    liqr = q1 - (iqr * 1.5)\n",
        "\n",
        "    number_outliers = sum((data <= liqr) | (data >= uiqr))\n",
        "    perc_outliers = (number_outliers / len(data)) * 100\n",
        "\n",
        "    return round(perc_outliers, 2)"
      ],
      "metadata": {
        "id": "8NwASTnpiEIt"
      },
      "execution_count": null,
      "outputs": []
    },
    {
      "cell_type": "code",
      "source": [
        "outliers_analyse = list()\n",
        "for feature in boston_df.drop('Prices', axis=1):\n",
        "    perc_outliers_data = calc_outliers(boston_df[feature])\n",
        "\n",
        "    outliers_analyse.append(perc_outliers_data)"
      ],
      "metadata": {
        "id": "Hxlu8zUViGLe"
      },
      "execution_count": null,
      "outputs": []
    },
    {
      "cell_type": "code",
      "source": [
        "outliers_analyse = pd.DataFrame(outliers_analyse, \n",
        "                                index=boston_data.feature_names,\n",
        "                                columns=['Outliers %'])\n",
        "outliers_analyse"
      ],
      "metadata": {
        "colab": {
          "base_uri": "https://localhost:8080/",
          "height": 457
        },
        "id": "8QBpMJSCiUza",
        "outputId": "1fe282f9-4a59-48b4-bfc1-029e95ce6076"
      },
      "execution_count": null,
      "outputs": [
        {
          "output_type": "execute_result",
          "data": {
            "text/plain": [
              "         Outliers %\n",
              "CRIM          13.04\n",
              "ZN            13.44\n",
              "INDUS          0.00\n",
              "CHAS         100.00\n",
              "NOX            0.00\n",
              "RM             5.93\n",
              "AGE            0.00\n",
              "DIS            0.99\n",
              "RAD            0.00\n",
              "TAX            0.00\n",
              "PTRATIO        2.96\n",
              "B             15.22\n",
              "LSTAT          1.38"
            ],
            "text/html": [
              "\n",
              "  <div id=\"df-72dafa15-83be-40b2-80bd-f38ec9165430\">\n",
              "    <div class=\"colab-df-container\">\n",
              "      <div>\n",
              "<style scoped>\n",
              "    .dataframe tbody tr th:only-of-type {\n",
              "        vertical-align: middle;\n",
              "    }\n",
              "\n",
              "    .dataframe tbody tr th {\n",
              "        vertical-align: top;\n",
              "    }\n",
              "\n",
              "    .dataframe thead th {\n",
              "        text-align: right;\n",
              "    }\n",
              "</style>\n",
              "<table border=\"1\" class=\"dataframe\">\n",
              "  <thead>\n",
              "    <tr style=\"text-align: right;\">\n",
              "      <th></th>\n",
              "      <th>Outliers %</th>\n",
              "    </tr>\n",
              "  </thead>\n",
              "  <tbody>\n",
              "    <tr>\n",
              "      <th>CRIM</th>\n",
              "      <td>13.04</td>\n",
              "    </tr>\n",
              "    <tr>\n",
              "      <th>ZN</th>\n",
              "      <td>13.44</td>\n",
              "    </tr>\n",
              "    <tr>\n",
              "      <th>INDUS</th>\n",
              "      <td>0.00</td>\n",
              "    </tr>\n",
              "    <tr>\n",
              "      <th>CHAS</th>\n",
              "      <td>100.00</td>\n",
              "    </tr>\n",
              "    <tr>\n",
              "      <th>NOX</th>\n",
              "      <td>0.00</td>\n",
              "    </tr>\n",
              "    <tr>\n",
              "      <th>RM</th>\n",
              "      <td>5.93</td>\n",
              "    </tr>\n",
              "    <tr>\n",
              "      <th>AGE</th>\n",
              "      <td>0.00</td>\n",
              "    </tr>\n",
              "    <tr>\n",
              "      <th>DIS</th>\n",
              "      <td>0.99</td>\n",
              "    </tr>\n",
              "    <tr>\n",
              "      <th>RAD</th>\n",
              "      <td>0.00</td>\n",
              "    </tr>\n",
              "    <tr>\n",
              "      <th>TAX</th>\n",
              "      <td>0.00</td>\n",
              "    </tr>\n",
              "    <tr>\n",
              "      <th>PTRATIO</th>\n",
              "      <td>2.96</td>\n",
              "    </tr>\n",
              "    <tr>\n",
              "      <th>B</th>\n",
              "      <td>15.22</td>\n",
              "    </tr>\n",
              "    <tr>\n",
              "      <th>LSTAT</th>\n",
              "      <td>1.38</td>\n",
              "    </tr>\n",
              "  </tbody>\n",
              "</table>\n",
              "</div>\n",
              "      <button class=\"colab-df-convert\" onclick=\"convertToInteractive('df-72dafa15-83be-40b2-80bd-f38ec9165430')\"\n",
              "              title=\"Convert this dataframe to an interactive table.\"\n",
              "              style=\"display:none;\">\n",
              "        \n",
              "  <svg xmlns=\"http://www.w3.org/2000/svg\" height=\"24px\"viewBox=\"0 0 24 24\"\n",
              "       width=\"24px\">\n",
              "    <path d=\"M0 0h24v24H0V0z\" fill=\"none\"/>\n",
              "    <path d=\"M18.56 5.44l.94 2.06.94-2.06 2.06-.94-2.06-.94-.94-2.06-.94 2.06-2.06.94zm-11 1L8.5 8.5l.94-2.06 2.06-.94-2.06-.94L8.5 2.5l-.94 2.06-2.06.94zm10 10l.94 2.06.94-2.06 2.06-.94-2.06-.94-.94-2.06-.94 2.06-2.06.94z\"/><path d=\"M17.41 7.96l-1.37-1.37c-.4-.4-.92-.59-1.43-.59-.52 0-1.04.2-1.43.59L10.3 9.45l-7.72 7.72c-.78.78-.78 2.05 0 2.83L4 21.41c.39.39.9.59 1.41.59.51 0 1.02-.2 1.41-.59l7.78-7.78 2.81-2.81c.8-.78.8-2.07 0-2.86zM5.41 20L4 18.59l7.72-7.72 1.47 1.35L5.41 20z\"/>\n",
              "  </svg>\n",
              "      </button>\n",
              "      \n",
              "  <style>\n",
              "    .colab-df-container {\n",
              "      display:flex;\n",
              "      flex-wrap:wrap;\n",
              "      gap: 12px;\n",
              "    }\n",
              "\n",
              "    .colab-df-convert {\n",
              "      background-color: #E8F0FE;\n",
              "      border: none;\n",
              "      border-radius: 50%;\n",
              "      cursor: pointer;\n",
              "      display: none;\n",
              "      fill: #1967D2;\n",
              "      height: 32px;\n",
              "      padding: 0 0 0 0;\n",
              "      width: 32px;\n",
              "    }\n",
              "\n",
              "    .colab-df-convert:hover {\n",
              "      background-color: #E2EBFA;\n",
              "      box-shadow: 0px 1px 2px rgba(60, 64, 67, 0.3), 0px 1px 3px 1px rgba(60, 64, 67, 0.15);\n",
              "      fill: #174EA6;\n",
              "    }\n",
              "\n",
              "    [theme=dark] .colab-df-convert {\n",
              "      background-color: #3B4455;\n",
              "      fill: #D2E3FC;\n",
              "    }\n",
              "\n",
              "    [theme=dark] .colab-df-convert:hover {\n",
              "      background-color: #434B5C;\n",
              "      box-shadow: 0px 1px 3px 1px rgba(0, 0, 0, 0.15);\n",
              "      filter: drop-shadow(0px 1px 2px rgba(0, 0, 0, 0.3));\n",
              "      fill: #FFFFFF;\n",
              "    }\n",
              "  </style>\n",
              "\n",
              "      <script>\n",
              "        const buttonEl =\n",
              "          document.querySelector('#df-72dafa15-83be-40b2-80bd-f38ec9165430 button.colab-df-convert');\n",
              "        buttonEl.style.display =\n",
              "          google.colab.kernel.accessAllowed ? 'block' : 'none';\n",
              "\n",
              "        async function convertToInteractive(key) {\n",
              "          const element = document.querySelector('#df-72dafa15-83be-40b2-80bd-f38ec9165430');\n",
              "          const dataTable =\n",
              "            await google.colab.kernel.invokeFunction('convertToInteractive',\n",
              "                                                     [key], {});\n",
              "          if (!dataTable) return;\n",
              "\n",
              "          const docLinkHtml = 'Like what you see? Visit the ' +\n",
              "            '<a target=\"_blank\" href=https://colab.research.google.com/notebooks/data_table.ipynb>data table notebook</a>'\n",
              "            + ' to learn more about interactive tables.';\n",
              "          element.innerHTML = '';\n",
              "          dataTable['output_type'] = 'display_data';\n",
              "          await google.colab.output.renderOutput(dataTable, element);\n",
              "          const docLink = document.createElement('div');\n",
              "          docLink.innerHTML = docLinkHtml;\n",
              "          element.appendChild(docLink);\n",
              "        }\n",
              "      </script>\n",
              "    </div>\n",
              "  </div>\n",
              "  "
            ]
          },
          "metadata": {},
          "execution_count": 18
        }
      ]
    },
    {
      "cell_type": "markdown",
      "source": [
        "### Data distribution\n",
        "The next step will be to plot the distribution of the data"
      ],
      "metadata": {
        "id": "IlALMV4per2l"
      }
    },
    {
      "cell_type": "code",
      "source": [
        "def plot_hist(figure, feature_data, feature_name, line, column, \n",
        "              width=0.8, height=0.8):\n",
        "    figure.add_axes((line, column, width, height))\n",
        "    plt.xlabel(feature_name)\n",
        "    plt.hist(feature_data)"
      ],
      "metadata": {
        "id": "kvyOgAg8jiY7"
      },
      "execution_count": null,
      "outputs": []
    },
    {
      "cell_type": "code",
      "source": [
        "f = plt.figure(figsize=(4, 4))\n",
        "\n",
        "i = 0\n",
        "j = 0\n",
        "for feature in boston_df.drop('Prices', axis=1):\n",
        "    plot_hist(f, boston_df[feature], feature, i, j)\n",
        "\n",
        "    i += 1\n",
        "    if i == 7:\n",
        "        i = 0\n",
        "        j += 1"
      ],
      "metadata": {
        "colab": {
          "base_uri": "https://localhost:8080/",
          "height": 368
        },
        "id": "LPVWimCCipIm",
        "outputId": "b09301f9-7cb5-4f44-a72a-809e7ebec432"
      },
      "execution_count": null,
      "outputs": [
        {
          "output_type": "display_data",
          "data": {
            "text/plain": [
              "<Figure size 288x288 with 13 Axes>"
            ],
            "image/png": "[encoded data removed]"
          },
          "metadata": {
            "needs_background": "light"
          }
        }
      ]
    },
    {
      "cell_type": "markdown",
      "source": [
        "## Data Normalization\n",
        "For this dataset, we will use Quantile Normalization to eliminate outliers and scale features"
      ],
      "metadata": {
        "id": "bHEsB0YET8gC"
      }
    },
    {
      "cell_type": "code",
      "source": [
        "qt = QuantileTransformer()\n",
        "boston_data_normalized = qt.fit_transform(boston_df.drop('Prices', axis=1), \n",
        "                                          boston_df['Prices'])"
      ],
      "metadata": {
        "id": "2IlWMf-GUDMr",
        "colab": {
          "base_uri": "https://localhost:8080/"
        },
        "outputId": "8b4593a3-4d6d-42aa-b25f-4fbcdd1529d6"
      },
      "execution_count": null,
      "outputs": [
        {
          "output_type": "stream",
          "name": "stderr",
          "text": [
            "/usr/local/lib/python3.7/dist-packages/sklearn/preprocessing/_data.py:2593: UserWarning: n_quantiles (1000) is greater than the total number of samples (506). n_quantiles is set to n_samples.\n",
            "  \"n_samples.\" % (self.n_quantiles, n_samples)\n"
          ]
        }
      ]
    },
    {
      "cell_type": "code",
      "source": [
        "boston_df_normalized = pd.DataFrame(boston_data_normalized, \n",
        "                                    columns=boston_data.feature_names)\n",
        "boston_df_normalized['Prices'] = boston_data.target\n",
        "boston_df_normalized"
      ],
      "metadata": {
        "colab": {
          "base_uri": "https://localhost:8080/",
          "height": 424
        },
        "id": "oQOoTlmTGaVN",
        "outputId": "ba32e1e2-b592-4a3c-f174-ade3052d5116"
      },
      "execution_count": null,
      "outputs": [
        {
          "output_type": "execute_result",
          "data": {
            "text/plain": [
              "         CRIM        ZN     INDUS  CHAS       NOX        RM       AGE  \\\n",
              "0    0.000000  0.758416  0.069307   0.0  0.514851  0.730693  0.395050   \n",
              "1    0.047525  0.000000  0.397030   0.0  0.296040  0.645545  0.512871   \n",
              "2    0.045545  0.000000  0.397030   0.0  0.296040  0.907921  0.366337   \n",
              "3    0.065347  0.000000  0.053465   0.0  0.269307  0.873267  0.260396   \n",
              "4    0.219802  0.000000  0.053465   0.0  0.269307  0.897030  0.320792   \n",
              "..        ...       ...       ...   ...       ...       ...       ...   \n",
              "501  0.198020  0.000000  0.586139   0.0  0.592079  0.736634  0.425743   \n",
              "502  0.126733  0.000000  0.586139   0.0  0.592079  0.425743  0.492079   \n",
              "503  0.186139  0.000000  0.586139   0.0  0.592079  0.865347  0.680198   \n",
              "504  0.322772  0.000000  0.586139   0.0  0.592079  0.814851  0.653465   \n",
              "505  0.138614  0.000000  0.586139   0.0  0.592079  0.371287  0.529703   \n",
              "\n",
              "          DIS       RAD       TAX   PTRATIO         B     LSTAT  Prices  \n",
              "0    0.637624  0.000000  0.317822  0.144554  1.000000  0.120792    24.0  \n",
              "1    0.731683  0.062376  0.109901  0.319802  1.000000  0.370297    21.6  \n",
              "2    0.731683  0.062376  0.109901  0.319802  0.556436  0.065347    34.7  \n",
              "3    0.831683  0.123762  0.049505  0.473267  0.649505  0.011881    33.4  \n",
              "4    0.831683  0.123762  0.049505  0.473267  1.000000  0.145545    36.2  \n",
              "..        ...       ...       ...       ...       ...       ...     ...  \n",
              "501  0.366337  0.000000  0.199010  0.937624  0.514851  0.411881    22.4  \n",
              "502  0.308911  0.000000  0.199010  0.937624  1.000000  0.364356    20.6  \n",
              "503  0.277228  0.000000  0.199010  0.937624  1.000000  0.162376    23.9  \n",
              "504  0.336634  0.000000  0.199010  0.937624  0.595050  0.211881    22.0  \n",
              "505  0.372277  0.000000  0.199010  0.937624  1.000000  0.310891    11.9  \n",
              "\n",
              "[506 rows x 14 columns]"
            ],
            "text/html": [
              "\n",
              "  <div id=\"df-670a6d84-4faa-43e4-b7c7-cc50160e3a04\">\n",
              "    <div class=\"colab-df-container\">\n",
              "      <div>\n",
              "<style scoped>\n",
              "    .dataframe tbody tr th:only-of-type {\n",
              "        vertical-align: middle;\n",
              "    }\n",
              "\n",
              "    .dataframe tbody tr th {\n",
              "        vertical-align: top;\n",
              "    }\n",
              "\n",
              "    .dataframe thead th {\n",
              "        text-align: right;\n",
              "    }\n",
              "</style>\n",
              "<table border=\"1\" class=\"dataframe\">\n",
              "  <thead>\n",
              "    <tr style=\"text-align: right;\">\n",
              "      <th></th>\n",
              "      <th>CRIM</th>\n",
              "      <th>ZN</th>\n",
              "      <th>INDUS</th>\n",
              "      <th>CHAS</th>\n",
              "      <th>NOX</th>\n",
              "      <th>RM</th>\n",
              "      <th>AGE</th>\n",
              "      <th>DIS</th>\n",
              "      <th>RAD</th>\n",
              "      <th>TAX</th>\n",
              "      <th>PTRATIO</th>\n",
              "      <th>B</th>\n",
              "      <th>LSTAT</th>\n",
              "      <th>Prices</th>\n",
              "    </tr>\n",
              "  </thead>\n",
              "  <tbody>\n",
              "    <tr>\n",
              "      <th>0</th>\n",
              "      <td>0.000000</td>\n",
              "      <td>0.758416</td>\n",
              "      <td>0.069307</td>\n",
              "      <td>0.0</td>\n",
              "      <td>0.514851</td>\n",
              "      <td>0.730693</td>\n",
              "      <td>0.395050</td>\n",
              "      <td>0.637624</td>\n",
              "      <td>0.000000</td>\n",
              "      <td>0.317822</td>\n",
              "      <td>0.144554</td>\n",
              "      <td>1.000000</td>\n",
              "      <td>0.120792</td>\n",
              "      <td>24.0</td>\n",
              "    </tr>\n",
              "    <tr>\n",
              "      <th>1</th>\n",
              "      <td>0.047525</td>\n",
              "      <td>0.000000</td>\n",
              "      <td>0.397030</td>\n",
              "      <td>0.0</td>\n",
              "      <td>0.296040</td>\n",
              "      <td>0.645545</td>\n",
              "      <td>0.512871</td>\n",
              "      <td>0.731683</td>\n",
              "      <td>0.062376</td>\n",
              "      <td>0.109901</td>\n",
              "      <td>0.319802</td>\n",
              "      <td>1.000000</td>\n",
              "      <td>0.370297</td>\n",
              "      <td>21.6</td>\n",
              "    </tr>\n",
              "    <tr>\n",
              "      <th>2</th>\n",
              "      <td>0.045545</td>\n",
              "      <td>0.000000</td>\n",
              "      <td>0.397030</td>\n",
              "      <td>0.0</td>\n",
              "      <td>0.296040</td>\n",
              "      <td>0.907921</td>\n",
              "      <td>0.366337</td>\n",
              "      <td>0.731683</td>\n",
              "      <td>0.062376</td>\n",
              "      <td>0.109901</td>\n",
              "      <td>0.319802</td>\n",
              "      <td>0.556436</td>\n",
              "      <td>0.065347</td>\n",
              "      <td>34.7</td>\n",
              "    </tr>\n",
              "    <tr>\n",
              "      <th>3</th>\n",
              "      <td>0.065347</td>\n",
              "      <td>0.000000</td>\n",
              "      <td>0.053465</td>\n",
              "      <td>0.0</td>\n",
              "      <td>0.269307</td>\n",
              "      <td>0.873267</td>\n",
              "      <td>0.260396</td>\n",
              "      <td>0.831683</td>\n",
              "      <td>0.123762</td>\n",
              "      <td>0.049505</td>\n",
              "      <td>0.473267</td>\n",
              "      <td>0.649505</td>\n",
              "      <td>0.011881</td>\n",
              "      <td>33.4</td>\n",
              "    </tr>\n",
              "    <tr>\n",
              "      <th>4</th>\n",
              "      <td>0.219802</td>\n",
              "      <td>0.000000</td>\n",
              "      <td>0.053465</td>\n",
              "      <td>0.0</td>\n",
              "      <td>0.269307</td>\n",
              "      <td>0.897030</td>\n",
              "      <td>0.320792</td>\n",
              "      <td>0.831683</td>\n",
              "      <td>0.123762</td>\n",
              "      <td>0.049505</td>\n",
              "      <td>0.473267</td>\n",
              "      <td>1.000000</td>\n",
              "      <td>0.145545</td>\n",
              "      <td>36.2</td>\n",
              "    </tr>\n",
              "    <tr>\n",
              "      <th>...</th>\n",
              "      <td>...</td>\n",
              "      <td>...</td>\n",
              "      <td>...</td>\n",
              "      <td>...</td>\n",
              "      <td>...</td>\n",
              "      <td>...</td>\n",
              "      <td>...</td>\n",
              "      <td>...</td>\n",
              "      <td>...</td>\n",
              "      <td>...</td>\n",
              "      <td>...</td>\n",
              "      <td>...</td>\n",
              "      <td>...</td>\n",
              "      <td>...</td>\n",
              "    </tr>\n",
              "    <tr>\n",
              "      <th>501</th>\n",
              "      <td>0.198020</td>\n",
              "      <td>0.000000</td>\n",
              "      <td>0.586139</td>\n",
              "      <td>0.0</td>\n",
              "      <td>0.592079</td>\n",
              "      <td>0.736634</td>\n",
              "      <td>0.425743</td>\n",
              "      <td>0.366337</td>\n",
              "      <td>0.000000</td>\n",
              "      <td>0.199010</td>\n",
              "      <td>0.937624</td>\n",
              "      <td>0.514851</td>\n",
              "      <td>0.411881</td>\n",
              "      <td>22.4</td>\n",
              "    </tr>\n",
              "    <tr>\n",
              "      <th>502</th>\n",
              "      <td>0.126733</td>\n",
              "      <td>0.000000</td>\n",
              "      <td>0.586139</td>\n",
              "      <td>0.0</td>\n",
              "      <td>0.592079</td>\n",
              "      <td>0.425743</td>\n",
              "      <td>0.492079</td>\n",
              "      <td>0.308911</td>\n",
              "      <td>0.000000</td>\n",
              "      <td>0.199010</td>\n",
              "      <td>0.937624</td>\n",
              "      <td>1.000000</td>\n",
              "      <td>0.364356</td>\n",
              "      <td>20.6</td>\n",
              "    </tr>\n",
              "    <tr>\n",
              "      <th>503</th>\n",
              "      <td>0.186139</td>\n",
              "      <td>0.000000</td>\n",
              "      <td>0.586139</td>\n",
              "      <td>0.0</td>\n",
              "      <td>0.592079</td>\n",
              "      <td>0.865347</td>\n",
              "      <td>0.680198</td>\n",
              "      <td>0.277228</td>\n",
              "      <td>0.000000</td>\n",
              "      <td>0.199010</td>\n",
              "      <td>0.937624</td>\n",
              "      <td>1.000000</td>\n",
              "      <td>0.162376</td>\n",
              "      <td>23.9</td>\n",
              "    </tr>\n",
              "    <tr>\n",
              "      <th>504</th>\n",
              "      <td>0.322772</td>\n",
              "      <td>0.000000</td>\n",
              "      <td>0.586139</td>\n",
              "      <td>0.0</td>\n",
              "      <td>0.592079</td>\n",
              "      <td>0.814851</td>\n",
              "      <td>0.653465</td>\n",
              "      <td>0.336634</td>\n",
              "      <td>0.000000</td>\n",
              "      <td>0.199010</td>\n",
              "      <td>0.937624</td>\n",
              "      <td>0.595050</td>\n",
              "      <td>0.211881</td>\n",
              "      <td>22.0</td>\n",
              "    </tr>\n",
              "    <tr>\n",
              "      <th>505</th>\n",
              "      <td>0.138614</td>\n",
              "      <td>0.000000</td>\n",
              "      <td>0.586139</td>\n",
              "      <td>0.0</td>\n",
              "      <td>0.592079</td>\n",
              "      <td>0.371287</td>\n",
              "      <td>0.529703</td>\n",
              "      <td>0.372277</td>\n",
              "      <td>0.000000</td>\n",
              "      <td>0.199010</td>\n",
              "      <td>0.937624</td>\n",
              "      <td>1.000000</td>\n",
              "      <td>0.310891</td>\n",
              "      <td>11.9</td>\n",
              "    </tr>\n",
              "  </tbody>\n",
              "</table>\n",
              "<p>506 rows × 14 columns</p>\n",
              "</div>\n",
              "      <button class=\"colab-df-convert\" onclick=\"convertToInteractive('df-670a6d84-4faa-43e4-b7c7-cc50160e3a04')\"\n",
              "              title=\"Convert this dataframe to an interactive table.\"\n",
              "              style=\"display:none;\">\n",
              "        \n",
              "  <svg xmlns=\"http://www.w3.org/2000/svg\" height=\"24px\"viewBox=\"0 0 24 24\"\n",
              "       width=\"24px\">\n",
              "    <path d=\"M0 0h24v24H0V0z\" fill=\"none\"/>\n",
              "    <path d=\"M18.56 5.44l.94 2.06.94-2.06 2.06-.94-2.06-.94-.94-2.06-.94 2.06-2.06.94zm-11 1L8.5 8.5l.94-2.06 2.06-.94-2.06-.94L8.5 2.5l-.94 2.06-2.06.94zm10 10l.94 2.06.94-2.06 2.06-.94-2.06-.94-.94-2.06-.94 2.06-2.06.94z\"/><path d=\"M17.41 7.96l-1.37-1.37c-.4-.4-.92-.59-1.43-.59-.52 0-1.04.2-1.43.59L10.3 9.45l-7.72 7.72c-.78.78-.78 2.05 0 2.83L4 21.41c.39.39.9.59 1.41.59.51 0 1.02-.2 1.41-.59l7.78-7.78 2.81-2.81c.8-.78.8-2.07 0-2.86zM5.41 20L4 18.59l7.72-7.72 1.47 1.35L5.41 20z\"/>\n",
              "  </svg>\n",
              "      </button>\n",
              "      \n",
              "  <style>\n",
              "    .colab-df-container {\n",
              "      display:flex;\n",
              "      flex-wrap:wrap;\n",
              "      gap: 12px;\n",
              "    }\n",
              "\n",
              "    .colab-df-convert {\n",
              "      background-color: #E8F0FE;\n",
              "      border: none;\n",
              "      border-radius: 50%;\n",
              "      cursor: pointer;\n",
              "      display: none;\n",
              "      fill: #1967D2;\n",
              "      height: 32px;\n",
              "      padding: 0 0 0 0;\n",
              "      width: 32px;\n",
              "    }\n",
              "\n",
              "    .colab-df-convert:hover {\n",
              "      background-color: #E2EBFA;\n",
              "      box-shadow: 0px 1px 2px rgba(60, 64, 67, 0.3), 0px 1px 3px 1px rgba(60, 64, 67, 0.15);\n",
              "      fill: #174EA6;\n",
              "    }\n",
              "\n",
              "    [theme=dark] .colab-df-convert {\n",
              "      background-color: #3B4455;\n",
              "      fill: #D2E3FC;\n",
              "    }\n",
              "\n",
              "    [theme=dark] .colab-df-convert:hover {\n",
              "      background-color: #434B5C;\n",
              "      box-shadow: 0px 1px 3px 1px rgba(0, 0, 0, 0.15);\n",
              "      filter: drop-shadow(0px 1px 2px rgba(0, 0, 0, 0.3));\n",
              "      fill: #FFFFFF;\n",
              "    }\n",
              "  </style>\n",
              "\n",
              "      <script>\n",
              "        const buttonEl =\n",
              "          document.querySelector('#df-670a6d84-4faa-43e4-b7c7-cc50160e3a04 button.colab-df-convert');\n",
              "        buttonEl.style.display =\n",
              "          google.colab.kernel.accessAllowed ? 'block' : 'none';\n",
              "\n",
              "        async function convertToInteractive(key) {\n",
              "          const element = document.querySelector('#df-670a6d84-4faa-43e4-b7c7-cc50160e3a04');\n",
              "          const dataTable =\n",
              "            await google.colab.kernel.invokeFunction('convertToInteractive',\n",
              "                                                     [key], {});\n",
              "          if (!dataTable) return;\n",
              "\n",
              "          const docLinkHtml = 'Like what you see? Visit the ' +\n",
              "            '<a target=\"_blank\" href=https://colab.research.google.com/notebooks/data_table.ipynb>data table notebook</a>'\n",
              "            + ' to learn more about interactive tables.';\n",
              "          element.innerHTML = '';\n",
              "          dataTable['output_type'] = 'display_data';\n",
              "          await google.colab.output.renderOutput(dataTable, element);\n",
              "          const docLink = document.createElement('div');\n",
              "          docLink.innerHTML = docLinkHtml;\n",
              "          element.appendChild(docLink);\n",
              "        }\n",
              "      </script>\n",
              "    </div>\n",
              "  </div>\n",
              "  "
            ]
          },
          "metadata": {},
          "execution_count": 20
        }
      ]
    },
    {
      "cell_type": "markdown",
      "source": [
        "## Data analysis"
      ],
      "metadata": {
        "id": "w96jnxm0aBA7"
      }
    },
    {
      "cell_type": "markdown",
      "source": [
        "### Describe"
      ],
      "metadata": {
        "id": "CV0sfFRRJM0u"
      }
    },
    {
      "cell_type": "code",
      "source": [
        "boston_df.describe()"
      ],
      "metadata": {
        "colab": {
          "base_uri": "https://localhost:8080/"
        },
        "id": "KgG7wJboaDZM",
        "outputId": "ec97b100-9452-41f2-c3c9-d73076c3b07f"
      },
      "execution_count": null,
      "outputs": [
        {
          "output_type": "execute_result",
          "data": {
            "text/plain": [
              "             CRIM          ZN       INDUS        CHAS         NOX          RM  \\\n",
              "count  506.000000  506.000000  506.000000  506.000000  506.000000  506.000000   \n",
              "mean     3.613524   11.363636   11.136779    0.069170    0.554695    6.284634   \n",
              "std      8.601545   23.322453    6.860353    0.253994    0.115878    0.702617   \n",
              "min      0.006320    0.000000    0.460000    0.000000    0.385000    3.561000   \n",
              "25%      0.082045    0.000000    5.190000    0.000000    0.449000    5.885500   \n",
              "50%      0.256510    0.000000    9.690000    0.000000    0.538000    6.208500   \n",
              "75%      3.677083   12.500000   18.100000    0.000000    0.624000    6.623500   \n",
              "max     88.976200  100.000000   27.740000    1.000000    0.871000    8.780000   \n",
              "\n",
              "              AGE         DIS         RAD         TAX     PTRATIO           B  \\\n",
              "count  506.000000  506.000000  506.000000  506.000000  506.000000  506.000000   \n",
              "mean    68.574901    3.795043    9.549407  408.237154   18.455534  356.674032   \n",
              "std     28.148861    2.105710    8.707259  168.537116    2.164946   91.294864   \n",
              "min      2.900000    1.129600    1.000000  187.000000   12.600000    0.320000   \n",
              "25%     45.025000    2.100175    4.000000  279.000000   17.400000  375.377500   \n",
              "50%     77.500000    3.207450    5.000000  330.000000   19.050000  391.440000   \n",
              "75%     94.075000    5.188425   24.000000  666.000000   20.200000  396.225000   \n",
              "max    100.000000   12.126500   24.000000  711.000000   22.000000  396.900000   \n",
              "\n",
              "            LSTAT      Prices  \n",
              "count  506.000000  506.000000  \n",
              "mean    12.653063   22.532806  \n",
              "std      7.141062    9.197104  \n",
              "min      1.730000    5.000000  \n",
              "25%      6.950000   17.025000  \n",
              "50%     11.360000   21.200000  \n",
              "75%     16.955000   25.000000  \n",
              "max     37.970000   50.000000  "
            ],
            "text/html": [
              "\n",
              "  <div id=\"df-87b6715d-b183-405e-bc17-52a124c94ace\">\n",
              "    <div class=\"colab-df-container\">\n",
              "      <div>\n",
              "<style scoped>\n",
              "    .dataframe tbody tr th:only-of-type {\n",
              "        vertical-align: middle;\n",
              "    }\n",
              "\n",
              "    .dataframe tbody tr th {\n",
              "        vertical-align: top;\n",
              "    }\n",
              "\n",
              "    .dataframe thead th {\n",
              "        text-align: right;\n",
              "    }\n",
              "</style>\n",
              "<table border=\"1\" class=\"dataframe\">\n",
              "  <thead>\n",
              "    <tr style=\"text-align: right;\">\n",
              "      <th></th>\n",
              "      <th>CRIM</th>\n",
              "      <th>ZN</th>\n",
              "      <th>INDUS</th>\n",
              "      <th>CHAS</th>\n",
              "      <th>NOX</th>\n",
              "      <th>RM</th>\n",
              "      <th>AGE</th>\n",
              "      <th>DIS</th>\n",
              "      <th>RAD</th>\n",
              "      <th>TAX</th>\n",
              "      <th>PTRATIO</th>\n",
              "      <th>B</th>\n",
              "      <th>LSTAT</th>\n",
              "      <th>Prices</th>\n",
              "    </tr>\n",
              "  </thead>\n",
              "  <tbody>\n",
              "    <tr>\n",
              "      <th>count</th>\n",
              "      <td>506.000000</td>\n",
              "      <td>506.000000</td>\n",
              "      <td>506.000000</td>\n",
              "      <td>506.000000</td>\n",
              "      <td>506.000000</td>\n",
              "      <td>506.000000</td>\n",
              "      <td>506.000000</td>\n",
              "      <td>506.000000</td>\n",
              "      <td>506.000000</td>\n",
              "      <td>506.000000</td>\n",
              "      <td>506.000000</td>\n",
              "      <td>506.000000</td>\n",
              "      <td>506.000000</td>\n",
              "      <td>506.000000</td>\n",
              "    </tr>\n",
              "    <tr>\n",
              "      <th>mean</th>\n",
              "      <td>3.613524</td>\n",
              "      <td>11.363636</td>\n",
              "      <td>11.136779</td>\n",
              "      <td>0.069170</td>\n",
              "      <td>0.554695</td>\n",
              "      <td>6.284634</td>\n",
              "      <td>68.574901</td>\n",
              "      <td>3.795043</td>\n",
              "      <td>9.549407</td>\n",
              "      <td>408.237154</td>\n",
              "      <td>18.455534</td>\n",
              "      <td>356.674032</td>\n",
              "      <td>12.653063</td>\n",
              "      <td>22.532806</td>\n",
              "    </tr>\n",
              "    <tr>\n",
              "      <th>std</th>\n",
              "      <td>8.601545</td>\n",
              "      <td>23.322453</td>\n",
              "      <td>6.860353</td>\n",
              "      <td>0.253994</td>\n",
              "      <td>0.115878</td>\n",
              "      <td>0.702617</td>\n",
              "      <td>28.148861</td>\n",
              "      <td>2.105710</td>\n",
              "      <td>8.707259</td>\n",
              "      <td>168.537116</td>\n",
              "      <td>2.164946</td>\n",
              "      <td>91.294864</td>\n",
              "      <td>7.141062</td>\n",
              "      <td>9.197104</td>\n",
              "    </tr>\n",
              "    <tr>\n",
              "      <th>min</th>\n",
              "      <td>0.006320</td>\n",
              "      <td>0.000000</td>\n",
              "      <td>0.460000</td>\n",
              "      <td>0.000000</td>\n",
              "      <td>0.385000</td>\n",
              "      <td>3.561000</td>\n",
              "      <td>2.900000</td>\n",
              "      <td>1.129600</td>\n",
              "      <td>1.000000</td>\n",
              "      <td>187.000000</td>\n",
              "      <td>12.600000</td>\n",
              "      <td>0.320000</td>\n",
              "      <td>1.730000</td>\n",
              "      <td>5.000000</td>\n",
              "    </tr>\n",
              "    <tr>\n",
              "      <th>25%</th>\n",
              "      <td>0.082045</td>\n",
              "      <td>0.000000</td>\n",
              "      <td>5.190000</td>\n",
              "      <td>0.000000</td>\n",
              "      <td>0.449000</td>\n",
              "      <td>5.885500</td>\n",
              "      <td>45.025000</td>\n",
              "      <td>2.100175</td>\n",
              "      <td>4.000000</td>\n",
              "      <td>279.000000</td>\n",
              "      <td>17.400000</td>\n",
              "      <td>375.377500</td>\n",
              "      <td>6.950000</td>\n",
              "      <td>17.025000</td>\n",
              "    </tr>\n",
              "    <tr>\n",
              "      <th>50%</th>\n",
              "      <td>0.256510</td>\n",
              "      <td>0.000000</td>\n",
              "      <td>9.690000</td>\n",
              "      <td>0.000000</td>\n",
              "      <td>0.538000</td>\n",
              "      <td>6.208500</td>\n",
              "      <td>77.500000</td>\n",
              "      <td>3.207450</td>\n",
              "      <td>5.000000</td>\n",
              "      <td>330.000000</td>\n",
              "      <td>19.050000</td>\n",
              "      <td>391.440000</td>\n",
              "      <td>11.360000</td>\n",
              "      <td>21.200000</td>\n",
              "    </tr>\n",
              "    <tr>\n",
              "      <th>75%</th>\n",
              "      <td>3.677083</td>\n",
              "      <td>12.500000</td>\n",
              "      <td>18.100000</td>\n",
              "      <td>0.000000</td>\n",
              "      <td>0.624000</td>\n",
              "      <td>6.623500</td>\n",
              "      <td>94.075000</td>\n",
              "      <td>5.188425</td>\n",
              "      <td>24.000000</td>\n",
              "      <td>666.000000</td>\n",
              "      <td>20.200000</td>\n",
              "      <td>396.225000</td>\n",
              "      <td>16.955000</td>\n",
              "      <td>25.000000</td>\n",
              "    </tr>\n",
              "    <tr>\n",
              "      <th>max</th>\n",
              "      <td>88.976200</td>\n",
              "      <td>100.000000</td>\n",
              "      <td>27.740000</td>\n",
              "      <td>1.000000</td>\n",
              "      <td>0.871000</td>\n",
              "      <td>8.780000</td>\n",
              "      <td>100.000000</td>\n",
              "      <td>12.126500</td>\n",
              "      <td>24.000000</td>\n",
              "      <td>711.000000</td>\n",
              "      <td>22.000000</td>\n",
              "      <td>396.900000</td>\n",
              "      <td>37.970000</td>\n",
              "      <td>50.000000</td>\n",
              "    </tr>\n",
              "  </tbody>\n",
              "</table>\n",
              "</div>\n",
              "      <button class=\"colab-df-convert\" onclick=\"convertToInteractive('df-87b6715d-b183-405e-bc17-52a124c94ace')\"\n",
              "              title=\"Convert this dataframe to an interactive table.\"\n",
              "              style=\"display:none;\">\n",
              "        \n",
              "  <svg xmlns=\"http://www.w3.org/2000/svg\" height=\"24px\"viewBox=\"0 0 24 24\"\n",
              "       width=\"24px\">\n",
              "    <path d=\"M0 0h24v24H0V0z\" fill=\"none\"/>\n",
              "    <path d=\"M18.56 5.44l.94 2.06.94-2.06 2.06-.94-2.06-.94-.94-2.06-.94 2.06-2.06.94zm-11 1L8.5 8.5l.94-2.06 2.06-.94-2.06-.94L8.5 2.5l-.94 2.06-2.06.94zm10 10l.94 2.06.94-2.06 2.06-.94-2.06-.94-.94-2.06-.94 2.06-2.06.94z\"/><path d=\"M17.41 7.96l-1.37-1.37c-.4-.4-.92-.59-1.43-.59-.52 0-1.04.2-1.43.59L10.3 9.45l-7.72 7.72c-.78.78-.78 2.05 0 2.83L4 21.41c.39.39.9.59 1.41.59.51 0 1.02-.2 1.41-.59l7.78-7.78 2.81-2.81c.8-.78.8-2.07 0-2.86zM5.41 20L4 18.59l7.72-7.72 1.47 1.35L5.41 20z\"/>\n",
              "  </svg>\n",
              "      </button>\n",
              "      \n",
              "  <style>\n",
              "    .colab-df-container {\n",
              "      display:flex;\n",
              "      flex-wrap:wrap;\n",
              "      gap: 12px;\n",
              "    }\n",
              "\n",
              "    .colab-df-convert {\n",
              "      background-color: #E8F0FE;\n",
              "      border: none;\n",
              "      border-radius: 50%;\n",
              "      cursor: pointer;\n",
              "      display: none;\n",
              "      fill: #1967D2;\n",
              "      height: 32px;\n",
              "      padding: 0 0 0 0;\n",
              "      width: 32px;\n",
              "    }\n",
              "\n",
              "    .colab-df-convert:hover {\n",
              "      background-color: #E2EBFA;\n",
              "      box-shadow: 0px 1px 2px rgba(60, 64, 67, 0.3), 0px 1px 3px 1px rgba(60, 64, 67, 0.15);\n",
              "      fill: #174EA6;\n",
              "    }\n",
              "\n",
              "    [theme=dark] .colab-df-convert {\n",
              "      background-color: #3B4455;\n",
              "      fill: #D2E3FC;\n",
              "    }\n",
              "\n",
              "    [theme=dark] .colab-df-convert:hover {\n",
              "      background-color: #434B5C;\n",
              "      box-shadow: 0px 1px 3px 1px rgba(0, 0, 0, 0.15);\n",
              "      filter: drop-shadow(0px 1px 2px rgba(0, 0, 0, 0.3));\n",
              "      fill: #FFFFFF;\n",
              "    }\n",
              "  </style>\n",
              "\n",
              "      <script>\n",
              "        const buttonEl =\n",
              "          document.querySelector('#df-87b6715d-b183-405e-bc17-52a124c94ace button.colab-df-convert');\n",
              "        buttonEl.style.display =\n",
              "          google.colab.kernel.accessAllowed ? 'block' : 'none';\n",
              "\n",
              "        async function convertToInteractive(key) {\n",
              "          const element = document.querySelector('#df-87b6715d-b183-405e-bc17-52a124c94ace');\n",
              "          const dataTable =\n",
              "            await google.colab.kernel.invokeFunction('convertToInteractive',\n",
              "                                                     [key], {});\n",
              "          if (!dataTable) return;\n",
              "\n",
              "          const docLinkHtml = 'Like what you see? Visit the ' +\n",
              "            '<a target=\"_blank\" href=https://colab.research.google.com/notebooks/data_table.ipynb>data table notebook</a>'\n",
              "            + ' to learn more about interactive tables.';\n",
              "          element.innerHTML = '';\n",
              "          dataTable['output_type'] = 'display_data';\n",
              "          await google.colab.output.renderOutput(dataTable, element);\n",
              "          const docLink = document.createElement('div');\n",
              "          docLink.innerHTML = docLinkHtml;\n",
              "          element.appendChild(docLink);\n",
              "        }\n",
              "      </script>\n",
              "    </div>\n",
              "  </div>\n",
              "  "
            ]
          },
          "metadata": {},
          "execution_count": 21
        }
      ]
    },
    {
      "cell_type": "code",
      "source": [
        "boston_df_normalized.describe()"
      ],
      "metadata": {
        "colab": {
          "base_uri": "https://localhost:8080/"
        },
        "id": "cjP3-XAHHGUf",
        "outputId": "feda75a0-4d4a-4585-b8ee-2e31ca9311a1"
      },
      "execution_count": null,
      "outputs": [
        {
          "output_type": "execute_result",
          "data": {
            "text/plain": [
              "             CRIM          ZN       INDUS        CHAS         NOX          RM  \\\n",
              "count  506.000000  506.000000  506.000000  506.000000  506.000000  506.000000   \n",
              "mean     0.500000    0.229883    0.499630    0.069170    0.500290    0.499988   \n",
              "std      0.289532    0.385418    0.286686    0.253994    0.290190    0.289519   \n",
              "min      0.000000    0.000000    0.000000    0.000000    0.000000    0.000000   \n",
              "25%      0.250000    0.000000    0.256436    0.000000    0.250495    0.250000   \n",
              "50%      0.500000    0.000000    0.501980    0.000000    0.514851    0.500495   \n",
              "75%      0.750000    0.744554    0.756436    0.000000    0.739604    0.750000   \n",
              "max      1.000000    1.000000    1.000000    1.000000    1.000000    1.000000   \n",
              "\n",
              "              AGE         DIS         RAD         TAX     PTRATIO           B  \\\n",
              "count  506.000000  506.000000  506.000000  506.000000  506.000000  506.000000   \n",
              "mean     0.503493    0.499961    0.533012    0.499959    0.499675    0.528412   \n",
              "std      0.295198    0.289486    0.330961    0.286933    0.286326    0.327046   \n",
              "min      0.000000    0.000000    0.000000    0.000000    0.000000    0.000000   \n",
              "25%      0.250000    0.250000    0.270297    0.248515    0.265347    0.250000   \n",
              "50%      0.500495    0.500495    0.493069    0.496040    0.506436    0.500000   \n",
              "75%      0.750743    0.749752    1.000000    0.860396    0.751485    0.749752   \n",
              "max      1.000000    1.000000    1.000000    1.000000    1.000000    1.000000   \n",
              "\n",
              "            LSTAT      Prices  \n",
              "count  506.000000  506.000000  \n",
              "mean     0.499975   22.532806  \n",
              "std      0.289535    9.197104  \n",
              "min      0.000000    5.000000  \n",
              "25%      0.250000   17.025000  \n",
              "50%      0.500000   21.200000  \n",
              "75%      0.750000   25.000000  \n",
              "max      1.000000   50.000000  "
            ],
            "text/html": [
              "\n",
              "  <div id=\"df-33dc2f66-61d9-499a-8856-de31d494bf43\">\n",
              "    <div class=\"colab-df-container\">\n",
              "      <div>\n",
              "<style scoped>\n",
              "    .dataframe tbody tr th:only-of-type {\n",
              "        vertical-align: middle;\n",
              "    }\n",
              "\n",
              "    .dataframe tbody tr th {\n",
              "        vertical-align: top;\n",
              "    }\n",
              "\n",
              "    .dataframe thead th {\n",
              "        text-align: right;\n",
              "    }\n",
              "</style>\n",
              "<table border=\"1\" class=\"dataframe\">\n",
              "  <thead>\n",
              "    <tr style=\"text-align: right;\">\n",
              "      <th></th>\n",
              "      <th>CRIM</th>\n",
              "      <th>ZN</th>\n",
              "      <th>INDUS</th>\n",
              "      <th>CHAS</th>\n",
              "      <th>NOX</th>\n",
              "      <th>RM</th>\n",
              "      <th>AGE</th>\n",
              "      <th>DIS</th>\n",
              "      <th>RAD</th>\n",
              "      <th>TAX</th>\n",
              "      <th>PTRATIO</th>\n",
              "      <th>B</th>\n",
              "      <th>LSTAT</th>\n",
              "      <th>Prices</th>\n",
              "    </tr>\n",
              "  </thead>\n",
              "  <tbody>\n",
              "    <tr>\n",
              "      <th>count</th>\n",
              "      <td>506.000000</td>\n",
              "      <td>506.000000</td>\n",
              "      <td>506.000000</td>\n",
              "      <td>506.000000</td>\n",
              "      <td>506.000000</td>\n",
              "      <td>506.000000</td>\n",
              "      <td>506.000000</td>\n",
              "      <td>506.000000</td>\n",
              "      <td>506.000000</td>\n",
              "      <td>506.000000</td>\n",
              "      <td>506.000000</td>\n",
              "      <td>506.000000</td>\n",
              "      <td>506.000000</td>\n",
              "      <td>506.000000</td>\n",
              "    </tr>\n",
              "    <tr>\n",
              "      <th>mean</th>\n",
              "      <td>0.500000</td>\n",
              "      <td>0.229883</td>\n",
              "      <td>0.499630</td>\n",
              "      <td>0.069170</td>\n",
              "      <td>0.500290</td>\n",
              "      <td>0.499988</td>\n",
              "      <td>0.503493</td>\n",
              "      <td>0.499961</td>\n",
              "      <td>0.533012</td>\n",
              "      <td>0.499959</td>\n",
              "      <td>0.499675</td>\n",
              "      <td>0.528412</td>\n",
              "      <td>0.499975</td>\n",
              "      <td>22.532806</td>\n",
              "    </tr>\n",
              "    <tr>\n",
              "      <th>std</th>\n",
              "      <td>0.289532</td>\n",
              "      <td>0.385418</td>\n",
              "      <td>0.286686</td>\n",
              "      <td>0.253994</td>\n",
              "      <td>0.290190</td>\n",
              "      <td>0.289519</td>\n",
              "      <td>0.295198</td>\n",
              "      <td>0.289486</td>\n",
              "      <td>0.330961</td>\n",
              "      <td>0.286933</td>\n",
              "      <td>0.286326</td>\n",
              "      <td>0.327046</td>\n",
              "      <td>0.289535</td>\n",
              "      <td>9.197104</td>\n",
              "    </tr>\n",
              "    <tr>\n",
              "      <th>min</th>\n",
              "      <td>0.000000</td>\n",
              "      <td>0.000000</td>\n",
              "      <td>0.000000</td>\n",
              "      <td>0.000000</td>\n",
              "      <td>0.000000</td>\n",
              "      <td>0.000000</td>\n",
              "      <td>0.000000</td>\n",
              "      <td>0.000000</td>\n",
              "      <td>0.000000</td>\n",
              "      <td>0.000000</td>\n",
              "      <td>0.000000</td>\n",
              "      <td>0.000000</td>\n",
              "      <td>0.000000</td>\n",
              "      <td>5.000000</td>\n",
              "    </tr>\n",
              "    <tr>\n",
              "      <th>25%</th>\n",
              "      <td>0.250000</td>\n",
              "      <td>0.000000</td>\n",
              "      <td>0.256436</td>\n",
              "      <td>0.000000</td>\n",
              "      <td>0.250495</td>\n",
              "      <td>0.250000</td>\n",
              "      <td>0.250000</td>\n",
              "      <td>0.250000</td>\n",
              "      <td>0.270297</td>\n",
              "      <td>0.248515</td>\n",
              "      <td>0.265347</td>\n",
              "      <td>0.250000</td>\n",
              "      <td>0.250000</td>\n",
              "      <td>17.025000</td>\n",
              "    </tr>\n",
              "    <tr>\n",
              "      <th>50%</th>\n",
              "      <td>0.500000</td>\n",
              "      <td>0.000000</td>\n",
              "      <td>0.501980</td>\n",
              "      <td>0.000000</td>\n",
              "      <td>0.514851</td>\n",
              "      <td>0.500495</td>\n",
              "      <td>0.500495</td>\n",
              "      <td>0.500495</td>\n",
              "      <td>0.493069</td>\n",
              "      <td>0.496040</td>\n",
              "      <td>0.506436</td>\n",
              "      <td>0.500000</td>\n",
              "      <td>0.500000</td>\n",
              "      <td>21.200000</td>\n",
              "    </tr>\n",
              "    <tr>\n",
              "      <th>75%</th>\n",
              "      <td>0.750000</td>\n",
              "      <td>0.744554</td>\n",
              "      <td>0.756436</td>\n",
              "      <td>0.000000</td>\n",
              "      <td>0.739604</td>\n",
              "      <td>0.750000</td>\n",
              "      <td>0.750743</td>\n",
              "      <td>0.749752</td>\n",
              "      <td>1.000000</td>\n",
              "      <td>0.860396</td>\n",
              "      <td>0.751485</td>\n",
              "      <td>0.749752</td>\n",
              "      <td>0.750000</td>\n",
              "      <td>25.000000</td>\n",
              "    </tr>\n",
              "    <tr>\n",
              "      <th>max</th>\n",
              "      <td>1.000000</td>\n",
              "      <td>1.000000</td>\n",
              "      <td>1.000000</td>\n",
              "      <td>1.000000</td>\n",
              "      <td>1.000000</td>\n",
              "      <td>1.000000</td>\n",
              "      <td>1.000000</td>\n",
              "      <td>1.000000</td>\n",
              "      <td>1.000000</td>\n",
              "      <td>1.000000</td>\n",
              "      <td>1.000000</td>\n",
              "      <td>1.000000</td>\n",
              "      <td>1.000000</td>\n",
              "      <td>50.000000</td>\n",
              "    </tr>\n",
              "  </tbody>\n",
              "</table>\n",
              "</div>\n",
              "      <button class=\"colab-df-convert\" onclick=\"convertToInteractive('df-33dc2f66-61d9-499a-8856-de31d494bf43')\"\n",
              "              title=\"Convert this dataframe to an interactive table.\"\n",
              "              style=\"display:none;\">\n",
              "        \n",
              "  <svg xmlns=\"http://www.w3.org/2000/svg\" height=\"24px\"viewBox=\"0 0 24 24\"\n",
              "       width=\"24px\">\n",
              "    <path d=\"M0 0h24v24H0V0z\" fill=\"none\"/>\n",
              "    <path d=\"M18.56 5.44l.94 2.06.94-2.06 2.06-.94-2.06-.94-.94-2.06-.94 2.06-2.06.94zm-11 1L8.5 8.5l.94-2.06 2.06-.94-2.06-.94L8.5 2.5l-.94 2.06-2.06.94zm10 10l.94 2.06.94-2.06 2.06-.94-2.06-.94-.94-2.06-.94 2.06-2.06.94z\"/><path d=\"M17.41 7.96l-1.37-1.37c-.4-.4-.92-.59-1.43-.59-.52 0-1.04.2-1.43.59L10.3 9.45l-7.72 7.72c-.78.78-.78 2.05 0 2.83L4 21.41c.39.39.9.59 1.41.59.51 0 1.02-.2 1.41-.59l7.78-7.78 2.81-2.81c.8-.78.8-2.07 0-2.86zM5.41 20L4 18.59l7.72-7.72 1.47 1.35L5.41 20z\"/>\n",
              "  </svg>\n",
              "      </button>\n",
              "      \n",
              "  <style>\n",
              "    .colab-df-container {\n",
              "      display:flex;\n",
              "      flex-wrap:wrap;\n",
              "      gap: 12px;\n",
              "    }\n",
              "\n",
              "    .colab-df-convert {\n",
              "      background-color: #E8F0FE;\n",
              "      border: none;\n",
              "      border-radius: 50%;\n",
              "      cursor: pointer;\n",
              "      display: none;\n",
              "      fill: #1967D2;\n",
              "      height: 32px;\n",
              "      padding: 0 0 0 0;\n",
              "      width: 32px;\n",
              "    }\n",
              "\n",
              "    .colab-df-convert:hover {\n",
              "      background-color: #E2EBFA;\n",
              "      box-shadow: 0px 1px 2px rgba(60, 64, 67, 0.3), 0px 1px 3px 1px rgba(60, 64, 67, 0.15);\n",
              "      fill: #174EA6;\n",
              "    }\n",
              "\n",
              "    [theme=dark] .colab-df-convert {\n",
              "      background-color: #3B4455;\n",
              "      fill: #D2E3FC;\n",
              "    }\n",
              "\n",
              "    [theme=dark] .colab-df-convert:hover {\n",
              "      background-color: #434B5C;\n",
              "      box-shadow: 0px 1px 3px 1px rgba(0, 0, 0, 0.15);\n",
              "      filter: drop-shadow(0px 1px 2px rgba(0, 0, 0, 0.3));\n",
              "      fill: #FFFFFF;\n",
              "    }\n",
              "  </style>\n",
              "\n",
              "      <script>\n",
              "        const buttonEl =\n",
              "          document.querySelector('#df-33dc2f66-61d9-499a-8856-de31d494bf43 button.colab-df-convert');\n",
              "        buttonEl.style.display =\n",
              "          google.colab.kernel.accessAllowed ? 'block' : 'none';\n",
              "\n",
              "        async function convertToInteractive(key) {\n",
              "          const element = document.querySelector('#df-33dc2f66-61d9-499a-8856-de31d494bf43');\n",
              "          const dataTable =\n",
              "            await google.colab.kernel.invokeFunction('convertToInteractive',\n",
              "                                                     [key], {});\n",
              "          if (!dataTable) return;\n",
              "\n",
              "          const docLinkHtml = 'Like what you see? Visit the ' +\n",
              "            '<a target=\"_blank\" href=https://colab.research.google.com/notebooks/data_table.ipynb>data table notebook</a>'\n",
              "            + ' to learn more about interactive tables.';\n",
              "          element.innerHTML = '';\n",
              "          dataTable['output_type'] = 'display_data';\n",
              "          await google.colab.output.renderOutput(dataTable, element);\n",
              "          const docLink = document.createElement('div');\n",
              "          docLink.innerHTML = docLinkHtml;\n",
              "          element.appendChild(docLink);\n",
              "        }\n",
              "      </script>\n",
              "    </div>\n",
              "  </div>\n",
              "  "
            ]
          },
          "metadata": {},
          "execution_count": 22
        }
      ]
    },
    {
      "cell_type": "markdown",
      "source": [
        "### Data correlation"
      ],
      "metadata": {
        "id": "wtTnmn51JRVh"
      }
    },
    {
      "cell_type": "code",
      "source": [
        "boston_corr = boston_df.drop('Prices', axis=1).corr()\n",
        "sbn.clustermap(boston_corr)"
      ],
      "metadata": {
        "colab": {
          "base_uri": "https://localhost:8080/"
        },
        "id": "QDKQxqdia4DW",
        "outputId": "6de200e3-314c-4f50-e9a1-c27b78435dc4"
      },
      "execution_count": null,
      "outputs": [
        {
          "output_type": "execute_result",
          "data": {
            "text/plain": [
              "<seaborn.matrix.ClusterGrid at 0x7efc21373f90>"
            ]
          },
          "metadata": {},
          "execution_count": 23
        },
        {
          "output_type": "display_data",
          "data": {
            "text/plain": [
              "<Figure size 720x720 with 4 Axes>"
            ],
            "image/png": "[encoded data removed]"
          },
          "metadata": {
            "needs_background": "light"
          }
        }
      ]
    },
    {
      "cell_type": "code",
      "source": [
        "boston_normalized_corr = boston_df_normalized.drop('Prices', axis=1).corr()\n",
        "sbn.clustermap(boston_normalized_corr)"
      ],
      "metadata": {
        "colab": {
          "base_uri": "https://localhost:8080/"
        },
        "id": "uGZE3cj7HOYa",
        "outputId": "0313b474-7372-49d5-b22e-ae0b0a247e80"
      },
      "execution_count": null,
      "outputs": [
        {
          "output_type": "execute_result",
          "data": {
            "text/plain": [
              "<seaborn.matrix.ClusterGrid at 0x7efc207fb390>"
            ]
          },
          "metadata": {},
          "execution_count": 24
        },
        {
          "output_type": "display_data",
          "data": {
            "text/plain": [
              "<Figure size 720x720 with 4 Axes>"
            ],
            "image/png": "[encoded data removed]"
          },
          "metadata": {
            "needs_background": "light"
          }
        }
      ]
    },
    {
      "cell_type": "markdown",
      "source": [
        "### Graphical analysis"
      ],
      "metadata": {
        "id": "ko8FQDdoJXJj"
      }
    },
    {
      "cell_type": "code",
      "source": [
        "f = plt.figure(1, figsize=(2, 4))\n",
        "\n",
        "i = 0\n",
        "for feature in boston_df.drop('Prices', axis=1):\n",
        "    plot_boxplot(f, i, 0, boston_df[feature], ('Raw ' + feature))\n",
        "    plot_boxplot(f, i, 1, boston_df_normalized[feature], \n",
        "                 ('Normalized ' + feature))\n",
        "\n",
        "    i += 1"
      ],
      "metadata": {
        "id": "pbsG9ZtFyZhT",
        "colab": {
          "base_uri": "https://localhost:8080/",
          "height": 383
        },
        "outputId": "a75a8c77-8176-43d8-927b-ec4b83800082"
      },
      "execution_count": null,
      "outputs": [
        {
          "output_type": "display_data",
          "data": {
            "text/plain": [
              "<Figure size 144x288 with 26 Axes>"
            ],
            "image/png": "[encoded data removed]"
          },
          "metadata": {
            "needs_background": "light"
          }
        }
      ]
    },
    {
      "cell_type": "markdown",
      "source": [
        "### Outliers"
      ],
      "metadata": {
        "id": "SdC67KMVJfH6"
      }
    },
    {
      "cell_type": "code",
      "source": [
        "outliers_analyse = list()\n",
        "for feature in boston_df.drop('Prices', axis=1):\n",
        "    perc_outliers_raw_data = calc_outliers(boston_df[feature])\n",
        "    perc_outliers_normalized_data = calc_outliers(boston_df_normalized[feature])\n",
        "\n",
        "    outliers_analyse.append([perc_outliers_raw_data,\n",
        "                             perc_outliers_normalized_data])"
      ],
      "metadata": {
        "id": "FxPjLwBSC85J"
      },
      "execution_count": null,
      "outputs": []
    },
    {
      "cell_type": "code",
      "source": [
        "outliers_analyse = pd.DataFrame(outliers_analyse, \n",
        "                                index=boston_data.feature_names,\n",
        "                                columns=['Raw data %', 'Normalized data %'])\n",
        "outliers_analyse"
      ],
      "metadata": {
        "colab": {
          "base_uri": "https://localhost:8080/",
          "height": 457
        },
        "id": "a4t1EVWdIfnS",
        "outputId": "4805db34-e14b-4689-b36e-2a4e6a1e82c6"
      },
      "execution_count": null,
      "outputs": [
        {
          "output_type": "execute_result",
          "data": {
            "text/plain": [
              "         Raw data %  Normalized data %\n",
              "CRIM          13.04                0.0\n",
              "ZN            13.44                0.0\n",
              "INDUS          0.00                0.0\n",
              "CHAS         100.00              100.0\n",
              "NOX            0.00                0.0\n",
              "RM             5.93                0.0\n",
              "AGE            0.00                0.0\n",
              "DIS            0.99                0.0\n",
              "RAD            0.00                0.0\n",
              "TAX            0.00                0.0\n",
              "PTRATIO        2.96                0.0\n",
              "B             15.22                0.0\n",
              "LSTAT          1.38                0.0"
            ],
            "text/html": [
              "\n",
              "  <div id=\"df-98f64dd1-ccee-40fd-98d5-e40d08a04e27\">\n",
              "    <div class=\"colab-df-container\">\n",
              "      <div>\n",
              "<style scoped>\n",
              "    .dataframe tbody tr th:only-of-type {\n",
              "        vertical-align: middle;\n",
              "    }\n",
              "\n",
              "    .dataframe tbody tr th {\n",
              "        vertical-align: top;\n",
              "    }\n",
              "\n",
              "    .dataframe thead th {\n",
              "        text-align: right;\n",
              "    }\n",
              "</style>\n",
              "<table border=\"1\" class=\"dataframe\">\n",
              "  <thead>\n",
              "    <tr style=\"text-align: right;\">\n",
              "      <th></th>\n",
              "      <th>Raw data %</th>\n",
              "      <th>Normalized data %</th>\n",
              "    </tr>\n",
              "  </thead>\n",
              "  <tbody>\n",
              "    <tr>\n",
              "      <th>CRIM</th>\n",
              "      <td>13.04</td>\n",
              "      <td>0.0</td>\n",
              "    </tr>\n",
              "    <tr>\n",
              "      <th>ZN</th>\n",
              "      <td>13.44</td>\n",
              "      <td>0.0</td>\n",
              "    </tr>\n",
              "    <tr>\n",
              "      <th>INDUS</th>\n",
              "      <td>0.00</td>\n",
              "      <td>0.0</td>\n",
              "    </tr>\n",
              "    <tr>\n",
              "      <th>CHAS</th>\n",
              "      <td>100.00</td>\n",
              "      <td>100.0</td>\n",
              "    </tr>\n",
              "    <tr>\n",
              "      <th>NOX</th>\n",
              "      <td>0.00</td>\n",
              "      <td>0.0</td>\n",
              "    </tr>\n",
              "    <tr>\n",
              "      <th>RM</th>\n",
              "      <td>5.93</td>\n",
              "      <td>0.0</td>\n",
              "    </tr>\n",
              "    <tr>\n",
              "      <th>AGE</th>\n",
              "      <td>0.00</td>\n",
              "      <td>0.0</td>\n",
              "    </tr>\n",
              "    <tr>\n",
              "      <th>DIS</th>\n",
              "      <td>0.99</td>\n",
              "      <td>0.0</td>\n",
              "    </tr>\n",
              "    <tr>\n",
              "      <th>RAD</th>\n",
              "      <td>0.00</td>\n",
              "      <td>0.0</td>\n",
              "    </tr>\n",
              "    <tr>\n",
              "      <th>TAX</th>\n",
              "      <td>0.00</td>\n",
              "      <td>0.0</td>\n",
              "    </tr>\n",
              "    <tr>\n",
              "      <th>PTRATIO</th>\n",
              "      <td>2.96</td>\n",
              "      <td>0.0</td>\n",
              "    </tr>\n",
              "    <tr>\n",
              "      <th>B</th>\n",
              "      <td>15.22</td>\n",
              "      <td>0.0</td>\n",
              "    </tr>\n",
              "    <tr>\n",
              "      <th>LSTAT</th>\n",
              "      <td>1.38</td>\n",
              "      <td>0.0</td>\n",
              "    </tr>\n",
              "  </tbody>\n",
              "</table>\n",
              "</div>\n",
              "      <button class=\"colab-df-convert\" onclick=\"convertToInteractive('df-98f64dd1-ccee-40fd-98d5-e40d08a04e27')\"\n",
              "              title=\"Convert this dataframe to an interactive table.\"\n",
              "              style=\"display:none;\">\n",
              "        \n",
              "  <svg xmlns=\"http://www.w3.org/2000/svg\" height=\"24px\"viewBox=\"0 0 24 24\"\n",
              "       width=\"24px\">\n",
              "    <path d=\"M0 0h24v24H0V0z\" fill=\"none\"/>\n",
              "    <path d=\"M18.56 5.44l.94 2.06.94-2.06 2.06-.94-2.06-.94-.94-2.06-.94 2.06-2.06.94zm-11 1L8.5 8.5l.94-2.06 2.06-.94-2.06-.94L8.5 2.5l-.94 2.06-2.06.94zm10 10l.94 2.06.94-2.06 2.06-.94-2.06-.94-.94-2.06-.94 2.06-2.06.94z\"/><path d=\"M17.41 7.96l-1.37-1.37c-.4-.4-.92-.59-1.43-.59-.52 0-1.04.2-1.43.59L10.3 9.45l-7.72 7.72c-.78.78-.78 2.05 0 2.83L4 21.41c.39.39.9.59 1.41.59.51 0 1.02-.2 1.41-.59l7.78-7.78 2.81-2.81c.8-.78.8-2.07 0-2.86zM5.41 20L4 18.59l7.72-7.72 1.47 1.35L5.41 20z\"/>\n",
              "  </svg>\n",
              "      </button>\n",
              "      \n",
              "  <style>\n",
              "    .colab-df-container {\n",
              "      display:flex;\n",
              "      flex-wrap:wrap;\n",
              "      gap: 12px;\n",
              "    }\n",
              "\n",
              "    .colab-df-convert {\n",
              "      background-color: #E8F0FE;\n",
              "      border: none;\n",
              "      border-radius: 50%;\n",
              "      cursor: pointer;\n",
              "      display: none;\n",
              "      fill: #1967D2;\n",
              "      height: 32px;\n",
              "      padding: 0 0 0 0;\n",
              "      width: 32px;\n",
              "    }\n",
              "\n",
              "    .colab-df-convert:hover {\n",
              "      background-color: #E2EBFA;\n",
              "      box-shadow: 0px 1px 2px rgba(60, 64, 67, 0.3), 0px 1px 3px 1px rgba(60, 64, 67, 0.15);\n",
              "      fill: #174EA6;\n",
              "    }\n",
              "\n",
              "    [theme=dark] .colab-df-convert {\n",
              "      background-color: #3B4455;\n",
              "      fill: #D2E3FC;\n",
              "    }\n",
              "\n",
              "    [theme=dark] .colab-df-convert:hover {\n",
              "      background-color: #434B5C;\n",
              "      box-shadow: 0px 1px 3px 1px rgba(0, 0, 0, 0.15);\n",
              "      filter: drop-shadow(0px 1px 2px rgba(0, 0, 0, 0.3));\n",
              "      fill: #FFFFFF;\n",
              "    }\n",
              "  </style>\n",
              "\n",
              "      <script>\n",
              "        const buttonEl =\n",
              "          document.querySelector('#df-98f64dd1-ccee-40fd-98d5-e40d08a04e27 button.colab-df-convert');\n",
              "        buttonEl.style.display =\n",
              "          google.colab.kernel.accessAllowed ? 'block' : 'none';\n",
              "\n",
              "        async function convertToInteractive(key) {\n",
              "          const element = document.querySelector('#df-98f64dd1-ccee-40fd-98d5-e40d08a04e27');\n",
              "          const dataTable =\n",
              "            await google.colab.kernel.invokeFunction('convertToInteractive',\n",
              "                                                     [key], {});\n",
              "          if (!dataTable) return;\n",
              "\n",
              "          const docLinkHtml = 'Like what you see? Visit the ' +\n",
              "            '<a target=\"_blank\" href=https://colab.research.google.com/notebooks/data_table.ipynb>data table notebook</a>'\n",
              "            + ' to learn more about interactive tables.';\n",
              "          element.innerHTML = '';\n",
              "          dataTable['output_type'] = 'display_data';\n",
              "          await google.colab.output.renderOutput(dataTable, element);\n",
              "          const docLink = document.createElement('div');\n",
              "          docLink.innerHTML = docLinkHtml;\n",
              "          element.appendChild(docLink);\n",
              "        }\n",
              "      </script>\n",
              "    </div>\n",
              "  </div>\n",
              "  "
            ]
          },
          "metadata": {},
          "execution_count": 27
        }
      ]
    },
    {
      "cell_type": "markdown",
      "source": [
        "### Data distribution"
      ],
      "metadata": {
        "id": "YVflvoGMk_p4"
      }
    },
    {
      "cell_type": "code",
      "source": [
        "f = plt.figure(figsize=(4, 4))\n",
        "\n",
        "i = 0\n",
        "for feature in boston_df.drop('Prices', axis=1):\n",
        "    plot_hist(f, boston_df[feature], 'Raw ' + feature, i, 0)\n",
        "    plot_hist(f, boston_df_normalized[feature], 'Normalized ' + feature, i, 1)\n",
        "    i += 1"
      ],
      "metadata": {
        "id": "S0Zs6NzFlE0y"
      },
      "execution_count": null,
      "outputs": []
    },
    {
      "cell_type": "markdown",
      "source": [
        "### Target data"
      ],
      "metadata": {
        "id": "nGDk1yoKk8JO"
      }
    },
    {
      "cell_type": "code",
      "source": [
        "f = plt.figure(2, figsize=(16, 8))\n",
        "plt.ylabel('Prices')\n",
        "plt.xlabel('Samples')\n",
        "plt.plot(boston_df['Prices'])"
      ],
      "metadata": {
        "id": "o-tl4-I1vha9",
        "colab": {
          "base_uri": "https://localhost:8080/",
          "height": 514
        },
        "outputId": "007b10f3-2755-49d7-a736-a1cb3fd6cf93"
      },
      "execution_count": null,
      "outputs": [
        {
          "output_type": "execute_result",
          "data": {
            "text/plain": [
              "[<matplotlib.lines.Line2D at 0x7efc200b4590>]"
            ]
          },
          "metadata": {},
          "execution_count": 28
        },
        {
          "output_type": "display_data",
          "data": {
            "text/plain": [
              "<Figure size 1152x576 with 1 Axes>"
            ],
            "image/png": "[encoded data removed]"
          },
          "metadata": {
            "needs_background": "light"
          }
        }
      ]
    },
    {
      "cell_type": "markdown",
      "source": [
        "## Data Split"
      ],
      "metadata": {
        "id": "XIHtNfjMHIQH"
      }
    },
    {
      "cell_type": "code",
      "source": [
        "X_train, X_test, Y_train, Y_test = train_test_split(\n",
        "    boston_df_normalized.drop('Prices', axis=1),\n",
        "    boston_df_normalized['Prices'], \n",
        "    test_size=0.2,\n",
        "    random_state=701\n",
        ")"
      ],
      "metadata": {
        "id": "n7JErBB5HMs3"
      },
      "execution_count": null,
      "outputs": []
    },
    {
      "cell_type": "markdown",
      "source": [
        "## Data Decomposition (PCA)"
      ],
      "metadata": {
        "id": "EmmMIjpZ5XHi"
      }
    },
    {
      "cell_type": "code",
      "source": [
        "pca = PCA(n_components=5)"
      ],
      "metadata": {
        "id": "AGJv2L4o6gj3"
      },
      "execution_count": null,
      "outputs": []
    },
    {
      "cell_type": "code",
      "source": [
        "pca.fit(X_train,\n",
        "        Y_train)"
      ],
      "metadata": {
        "colab": {
          "base_uri": "https://localhost:8080/"
        },
        "id": "uVPqO9Xg6tbr",
        "outputId": "9e14346b-5f1f-4920-f7a9-b613a081cf20"
      },
      "execution_count": null,
      "outputs": [
        {
          "output_type": "execute_result",
          "data": {
            "text/plain": [
              "PCA(n_components=5)"
            ]
          },
          "metadata": {},
          "execution_count": 73
        }
      ]
    },
    {
      "cell_type": "code",
      "source": [
        "pca.explained_variance_ratio_"
      ],
      "metadata": {
        "colab": {
          "base_uri": "https://localhost:8080/"
        },
        "id": "ttHKzpk67nCN",
        "outputId": "26b5fb84-63a8-4813-d775-4206266893ab"
      },
      "execution_count": null,
      "outputs": [
        {
          "output_type": "execute_result",
          "data": {
            "text/plain": [
              "array([0.50628803, 0.10699905, 0.08230551, 0.07424286, 0.05875151])"
            ]
          },
          "metadata": {},
          "execution_count": 74
        }
      ]
    },
    {
      "cell_type": "code",
      "source": [
        "plt.plot(range(1, 6),\n",
        "         pca.explained_variance_ratio_.cumsum() * 100,\n",
        "         'k--')\n",
        "plt.grid()"
      ],
      "metadata": {
        "colab": {
          "base_uri": "https://localhost:8080/",
          "height": 265
        },
        "id": "ovDQ4_0-71n9",
        "outputId": "a16c24bf-8c80-44e6-fa33-de17b1b0a193"
      },
      "execution_count": null,
      "outputs": [
        {
          "output_type": "display_data",
          "data": {
            "text/plain": [
              "<Figure size 432x288 with 1 Axes>"
            ],
            "image/png": "[encoded data removed]"
          },
          "metadata": {
            "needs_background": "light"
          }
        }
      ]
    },
    {
      "cell_type": "code",
      "source": [
        "pca.explained_variance_"
      ],
      "metadata": {
        "colab": {
          "base_uri": "https://localhost:8080/"
        },
        "id": "ExuzT-3r7wDQ",
        "outputId": "24131bea-b6ed-4e76-db37-b9ae643c4e07"
      },
      "execution_count": null,
      "outputs": [
        {
          "output_type": "execute_result",
          "data": {
            "text/plain": [
              "array([0.60398332, 0.12764599, 0.0981875 , 0.08856905, 0.07008842])"
            ]
          },
          "metadata": {},
          "execution_count": 76
        }
      ]
    },
    {
      "cell_type": "code",
      "source": [
        "plt.plot(range(1, 6),\n",
        "         pca.explained_variance_.cumsum() * 100, \n",
        "         'k--')\n",
        "plt.grid()"
      ],
      "metadata": {
        "colab": {
          "base_uri": "https://localhost:8080/",
          "height": 265
        },
        "id": "2JftIVrT8iRC",
        "outputId": "410eea85-b7ff-49bc-ef66-8ab51d0cb131"
      },
      "execution_count": null,
      "outputs": [
        {
          "output_type": "display_data",
          "data": {
            "text/plain": [
              "<Figure size 432x288 with 1 Axes>"
            ],
            "image/png": "[encoded data removed]"
          },
          "metadata": {
            "needs_background": "light"
          }
        }
      ]
    },
    {
      "cell_type": "code",
      "source": [
        "pca.transform(X_train)"
      ],
      "metadata": {
        "colab": {
          "base_uri": "https://localhost:8080/"
        },
        "id": "WEtW3dTn7IT-",
        "outputId": "4d153fd0-faef-4f54-f83f-77ad0cfb9669"
      },
      "execution_count": null,
      "outputs": [
        {
          "output_type": "execute_result",
          "data": {
            "text/plain": [
              "array([[ 0.34742657,  0.20043758, -0.01746305, -0.5645533 , -0.29189634],\n",
              "       [-1.11278599, -0.09738462, -0.16035684,  0.34194495,  0.04056103],\n",
              "       [ 1.44565037, -0.17847877,  0.01746989, -0.0870627 ,  0.07861193],\n",
              "       ...,\n",
              "       [ 0.06754191,  0.34153086,  0.58615438, -0.24598103,  0.29915151],\n",
              "       [ 0.39266628,  0.582815  , -0.1301525 ,  0.137597  , -0.28649266],\n",
              "       [-0.65412071, -0.11725862, -0.32892015,  0.09193977, -0.18679189]])"
            ]
          },
          "metadata": {},
          "execution_count": 85
        }
      ]
    },
    {
      "cell_type": "markdown",
      "source": [
        "## Model selection"
      ],
      "metadata": {
        "id": "kiggCHUlOqaf"
      }
    },
    {
      "cell_type": "code",
      "source": [
        "pipeline = Pipeline(steps=[\n",
        "    ('regressor', GradientBoostingRegressor())\n",
        "])"
      ],
      "metadata": {
        "id": "2rc75AIkcMq2"
      },
      "execution_count": null,
      "outputs": []
    },
    {
      "cell_type": "code",
      "source": [
        "param_grid = [\n",
        "    {\n",
        "        'regressor': [GradientBoostingRegressor()], \n",
        "        'regressor__learning_rate': [lr / 100 for lr in range(1, 21)], \n",
        "        'regressor__n_estimators': [n for n in range(50, 310, 10)]\n",
        "    }, {\n",
        "        'regressor': [AdaBoostRegressor()],\n",
        "        'regressor__n_estimators': [n for n in range(10, 110, 10)], \n",
        "        'regressor__learning_rate': [lr / 10 for lr in range(1, 21)]\n",
        "    }, {\n",
        "        'regressor': [RandomForestRegressor()],\n",
        "        'regressor__n_estimators': [n for n in range(50, 310, 10)],\n",
        "        'regressor__max_depth': [max for max in range(1, 7)]\n",
        "    }, {\n",
        "        'regressor': [ExtraTreesRegressor()],\n",
        "        'regressor__n_estimators': [n for n in range(50, 310, 10)],\n",
        "        'regressor__max_depth': [max for max in range(1, 7)]\n",
        "    }\n",
        "]"
      ],
      "metadata": {
        "id": "srk5KA2Q4Ldf"
      },
      "execution_count": null,
      "outputs": []
    },
    {
      "cell_type": "code",
      "source": [
        "grid_search = GridSearchCV(pipeline, \n",
        "                           param_grid, \n",
        "                           scoring='neg_root_mean_squared_error',\n",
        "                           cv=4)"
      ],
      "metadata": {
        "id": "prvKUMQI4Fjk"
      },
      "execution_count": null,
      "outputs": []
    },
    {
      "cell_type": "code",
      "source": [
        "grid_search.fit(pca.transform(X_train), Y_train)"
      ],
      "metadata": {
        "id": "ECy8nbI55TzR",
        "colab": {
          "base_uri": "https://localhost:8080/"
        },
        "outputId": "23bdb2e1-2b7b-4a02-969a-8ab3f6ee0e62"
      },
      "execution_count": null,
      "outputs": [
        {
          "output_type": "execute_result",
          "data": {
            "text/plain": [
              "GridSearchCV(cv=4,\n",
              "             estimator=Pipeline(steps=[('regressor',\n",
              "                                        GradientBoostingRegressor())]),\n",
              "             param_grid=[{'regressor': [GradientBoostingRegressor(learning_rate=0.09,\n",
              "                                                                  n_estimators=290)],\n",
              "                          'regressor__learning_rate': [0.01, 0.02, 0.03, 0.04,\n",
              "                                                       0.05, 0.06, 0.07, 0.08,\n",
              "                                                       0.09, 0.1, 0.11, 0.12,\n",
              "                                                       0.13, 0.14, 0.15, 0.16,\n",
              "                                                       0.17, 0.18, 0.19, 0.2],\n",
              "                          'regressor__n_estimators': [50, 60, 70, 80, 90, 100...\n",
              "                          'regressor__n_estimators': [50, 60, 70, 80, 90, 100,\n",
              "                                                      110, 120, 130, 140, 150,\n",
              "                                                      160, 170, 180, 190, 200,\n",
              "                                                      210, 220, 230, 240, 250,\n",
              "                                                      260, 270, 280, 290,\n",
              "                                                      300]},\n",
              "                         {'regressor': [ExtraTreesRegressor()],\n",
              "                          'regressor__max_depth': [1, 2, 3, 4, 5, 6],\n",
              "                          'regressor__n_estimators': [50, 60, 70, 80, 90, 100,\n",
              "                                                      110, 120, 130, 140, 150,\n",
              "                                                      160, 170, 180, 190, 200,\n",
              "                                                      210, 220, 230, 240, 250,\n",
              "                                                      260, 270, 280, 290,\n",
              "                                                      300]}],\n",
              "             scoring='neg_root_mean_squared_error')"
            ]
          },
          "metadata": {},
          "execution_count": 86
        }
      ]
    },
    {
      "cell_type": "code",
      "source": [
        "grid_search.best_params_"
      ],
      "metadata": {
        "colab": {
          "base_uri": "https://localhost:8080/"
        },
        "id": "ESGoVTfY5dgR",
        "outputId": "9fa4414c-5b56-448c-bc2d-ab03826d0c41"
      },
      "execution_count": null,
      "outputs": [
        {
          "output_type": "execute_result",
          "data": {
            "text/plain": [
              "{'regressor': GradientBoostingRegressor(learning_rate=0.09, n_estimators=290),\n",
              " 'regressor__learning_rate': 0.09,\n",
              " 'regressor__n_estimators': 290}"
            ]
          },
          "metadata": {},
          "execution_count": 87
        }
      ]
    },
    {
      "cell_type": "code",
      "source": [
        "grid_search.best_score_"
      ],
      "metadata": {
        "colab": {
          "base_uri": "https://localhost:8080/"
        },
        "id": "XFr49hRI57si",
        "outputId": "bc1601b5-d8be-4401-c77c-7a5ff41b7616"
      },
      "execution_count": null,
      "outputs": [
        {
          "output_type": "execute_result",
          "data": {
            "text/plain": [
              "-4.709944336087023"
            ]
          },
          "metadata": {},
          "execution_count": 88
        }
      ]
    },
    {
      "cell_type": "code",
      "source": [
        "cv_results = pd.DataFrame(grid_search.cv_results_)\n",
        "cv_results"
      ],
      "metadata": {
        "colab": {
          "base_uri": "https://localhost:8080/",
          "height": 661
        },
        "id": "tJ6yXmdaEnxf",
        "outputId": "fbaab272-3321-49c8-ba52-7d0f59a8f1b8"
      },
      "execution_count": null,
      "outputs": [
        {
          "output_type": "execute_result",
          "data": {
            "text/plain": [
              "      mean_fit_time  std_fit_time  mean_score_time  std_score_time  \\\n",
              "0          0.055872      0.010374         0.001299        0.000125   \n",
              "1          0.061492      0.003233         0.001278        0.000025   \n",
              "2          0.081992      0.009236         0.001347        0.000121   \n",
              "3          0.085713      0.001992         0.001383        0.000034   \n",
              "4          0.092194      0.005291         0.001359        0.000070   \n",
              "...             ...           ...              ...             ...   \n",
              "1027       0.230134      0.004107         0.023823        0.004219   \n",
              "1028       0.238359      0.005692         0.023775        0.001860   \n",
              "1029       0.244216      0.004866         0.023133        0.000442   \n",
              "1030       0.250832      0.005092         0.024677        0.001365   \n",
              "1031       0.258717      0.005365         0.025233        0.002099   \n",
              "\n",
              "                                        param_regressor  \\\n",
              "0     GradientBoostingRegressor(learning_rate=0.09, ...   \n",
              "1     GradientBoostingRegressor(learning_rate=0.09, ...   \n",
              "2     GradientBoostingRegressor(learning_rate=0.09, ...   \n",
              "3     GradientBoostingRegressor(learning_rate=0.09, ...   \n",
              "4     GradientBoostingRegressor(learning_rate=0.09, ...   \n",
              "...                                                 ...   \n",
              "1027                              ExtraTreesRegressor()   \n",
              "1028                              ExtraTreesRegressor()   \n",
              "1029                              ExtraTreesRegressor()   \n",
              "1030                              ExtraTreesRegressor()   \n",
              "1031                              ExtraTreesRegressor()   \n",
              "\n",
              "     param_regressor__learning_rate param_regressor__n_estimators  \\\n",
              "0                              0.01                            50   \n",
              "1                              0.01                            60   \n",
              "2                              0.01                            70   \n",
              "3                              0.01                            80   \n",
              "4                              0.01                            90   \n",
              "...                             ...                           ...   \n",
              "1027                            NaN                           260   \n",
              "1028                            NaN                           270   \n",
              "1029                            NaN                           280   \n",
              "1030                            NaN                           290   \n",
              "1031                            NaN                           300   \n",
              "\n",
              "     param_regressor__max_depth  \\\n",
              "0                           NaN   \n",
              "1                           NaN   \n",
              "2                           NaN   \n",
              "3                           NaN   \n",
              "4                           NaN   \n",
              "...                         ...   \n",
              "1027                          6   \n",
              "1028                          6   \n",
              "1029                          6   \n",
              "1030                          6   \n",
              "1031                          6   \n",
              "\n",
              "                                                 params  split0_test_score  \\\n",
              "0     {'regressor': GradientBoostingRegressor(learni...          -8.109854   \n",
              "1     {'regressor': GradientBoostingRegressor(learni...          -7.879281   \n",
              "2     {'regressor': GradientBoostingRegressor(learni...          -7.669088   \n",
              "3     {'regressor': GradientBoostingRegressor(learni...          -7.452250   \n",
              "4     {'regressor': GradientBoostingRegressor(learni...          -7.280765   \n",
              "...                                                 ...                ...   \n",
              "1027  {'regressor': ExtraTreesRegressor(), 'regresso...          -6.119672   \n",
              "1028  {'regressor': ExtraTreesRegressor(), 'regresso...          -6.117673   \n",
              "1029  {'regressor': ExtraTreesRegressor(), 'regresso...          -6.101464   \n",
              "1030  {'regressor': ExtraTreesRegressor(), 'regresso...          -6.126766   \n",
              "1031  {'regressor': ExtraTreesRegressor(), 'regresso...          -6.084998   \n",
              "\n",
              "      split1_test_score  split2_test_score  split3_test_score  \\\n",
              "0             -7.897484          -5.911453          -7.184949   \n",
              "1             -7.675263          -5.653079          -7.005979   \n",
              "2             -7.471445          -5.428554          -6.828101   \n",
              "3             -7.297427          -5.231001          -6.698274   \n",
              "4             -7.109758          -5.080702          -6.489688   \n",
              "...                 ...                ...                ...   \n",
              "1027          -5.763537          -4.085090          -4.514271   \n",
              "1028          -5.824065          -4.078423          -4.475869   \n",
              "1029          -5.728205          -4.142120          -4.560841   \n",
              "1030          -5.849944          -4.094176          -4.546865   \n",
              "1031          -5.755216          -4.111051          -4.493963   \n",
              "\n",
              "      mean_test_score  std_test_score  rank_test_score  \n",
              "0           -7.275935        0.859045              980  \n",
              "1           -7.053400        0.870623              967  \n",
              "2           -6.849297        0.877224              952  \n",
              "3           -6.669738        0.877083              951  \n",
              "4           -6.490228        0.865380              938  \n",
              "...               ...             ...              ...  \n",
              "1027        -5.120643        0.844309              540  \n",
              "1028        -5.124008        0.864694              543  \n",
              "1029        -5.133158        0.806443              549  \n",
              "1030        -5.154438        0.854759              559  \n",
              "1031        -5.111307        0.828299              537  \n",
              "\n",
              "[1032 rows x 16 columns]"
            ],
            "text/html": [
              "\n",
              "  <div id=\"df-cfea5fa0-f789-4955-ba9b-a16911e3ebea\">\n",
              "    <div class=\"colab-df-container\">\n",
              "      <div>\n",
              "<style scoped>\n",
              "    .dataframe tbody tr th:only-of-type {\n",
              "        vertical-align: middle;\n",
              "    }\n",
              "\n",
              "    .dataframe tbody tr th {\n",
              "        vertical-align: top;\n",
              "    }\n",
              "\n",
              "    .dataframe thead th {\n",
              "        text-align: right;\n",
              "    }\n",
              "</style>\n",
              "<table border=\"1\" class=\"dataframe\">\n",
              "  <thead>\n",
              "    <tr style=\"text-align: right;\">\n",
              "      <th></th>\n",
              "      <th>mean_fit_time</th>\n",
              "      <th>std_fit_time</th>\n",
              "      <th>mean_score_time</th>\n",
              "      <th>std_score_time</th>\n",
              "      <th>param_regressor</th>\n",
              "      <th>param_regressor__learning_rate</th>\n",
              "      <th>param_regressor__n_estimators</th>\n",
              "      <th>param_regressor__max_depth</th>\n",
              "      <th>params</th>\n",
              "      <th>split0_test_score</th>\n",
              "      <th>split1_test_score</th>\n",
              "      <th>split2_test_score</th>\n",
              "      <th>split3_test_score</th>\n",
              "      <th>mean_test_score</th>\n",
              "      <th>std_test_score</th>\n",
              "      <th>rank_test_score</th>\n",
              "    </tr>\n",
              "  </thead>\n",
              "  <tbody>\n",
              "    <tr>\n",
              "      <th>0</th>\n",
              "      <td>0.055872</td>\n",
              "      <td>0.010374</td>\n",
              "      <td>0.001299</td>\n",
              "      <td>0.000125</td>\n",
              "      <td>GradientBoostingRegressor(learning_rate=0.09, ...</td>\n",
              "      <td>0.01</td>\n",
              "      <td>50</td>\n",
              "      <td>NaN</td>\n",
              "      <td>{'regressor': GradientBoostingRegressor(learni...</td>\n",
              "      <td>-8.109854</td>\n",
              "      <td>-7.897484</td>\n",
              "      <td>-5.911453</td>\n",
              "      <td>-7.184949</td>\n",
              "      <td>-7.275935</td>\n",
              "      <td>0.859045</td>\n",
              "      <td>980</td>\n",
              "    </tr>\n",
              "    <tr>\n",
              "      <th>1</th>\n",
              "      <td>0.061492</td>\n",
              "      <td>0.003233</td>\n",
              "      <td>0.001278</td>\n",
              "      <td>0.000025</td>\n",
              "      <td>GradientBoostingRegressor(learning_rate=0.09, ...</td>\n",
              "      <td>0.01</td>\n",
              "      <td>60</td>\n",
              "      <td>NaN</td>\n",
              "      <td>{'regressor': GradientBoostingRegressor(learni...</td>\n",
              "      <td>-7.879281</td>\n",
              "      <td>-7.675263</td>\n",
              "      <td>-5.653079</td>\n",
              "      <td>-7.005979</td>\n",
              "      <td>-7.053400</td>\n",
              "      <td>0.870623</td>\n",
              "      <td>967</td>\n",
              "    </tr>\n",
              "    <tr>\n",
              "      <th>2</th>\n",
              "      <td>0.081992</td>\n",
              "      <td>0.009236</td>\n",
              "      <td>0.001347</td>\n",
              "      <td>0.000121</td>\n",
              "      <td>GradientBoostingRegressor(learning_rate=0.09, ...</td>\n",
              "      <td>0.01</td>\n",
              "      <td>70</td>\n",
              "      <td>NaN</td>\n",
              "      <td>{'regressor': GradientBoostingRegressor(learni...</td>\n",
              "      <td>-7.669088</td>\n",
              "      <td>-7.471445</td>\n",
              "      <td>-5.428554</td>\n",
              "      <td>-6.828101</td>\n",
              "      <td>-6.849297</td>\n",
              "      <td>0.877224</td>\n",
              "      <td>952</td>\n",
              "    </tr>\n",
              "    <tr>\n",
              "      <th>3</th>\n",
              "      <td>0.085713</td>\n",
              "      <td>0.001992</td>\n",
              "      <td>0.001383</td>\n",
              "      <td>0.000034</td>\n",
              "      <td>GradientBoostingRegressor(learning_rate=0.09, ...</td>\n",
              "      <td>0.01</td>\n",
              "      <td>80</td>\n",
              "      <td>NaN</td>\n",
              "      <td>{'regressor': GradientBoostingRegressor(learni...</td>\n",
              "      <td>-7.452250</td>\n",
              "      <td>-7.297427</td>\n",
              "      <td>-5.231001</td>\n",
              "      <td>-6.698274</td>\n",
              "      <td>-6.669738</td>\n",
              "      <td>0.877083</td>\n",
              "      <td>951</td>\n",
              "    </tr>\n",
              "    <tr>\n",
              "      <th>4</th>\n",
              "      <td>0.092194</td>\n",
              "      <td>0.005291</td>\n",
              "      <td>0.001359</td>\n",
              "      <td>0.000070</td>\n",
              "      <td>GradientBoostingRegressor(learning_rate=0.09, ...</td>\n",
              "      <td>0.01</td>\n",
              "      <td>90</td>\n",
              "      <td>NaN</td>\n",
              "      <td>{'regressor': GradientBoostingRegressor(learni...</td>\n",
              "      <td>-7.280765</td>\n",
              "      <td>-7.109758</td>\n",
              "      <td>-5.080702</td>\n",
              "      <td>-6.489688</td>\n",
              "      <td>-6.490228</td>\n",
              "      <td>0.865380</td>\n",
              "      <td>938</td>\n",
              "    </tr>\n",
              "    <tr>\n",
              "      <th>...</th>\n",
              "      <td>...</td>\n",
              "      <td>...</td>\n",
              "      <td>...</td>\n",
              "      <td>...</td>\n",
              "      <td>...</td>\n",
              "      <td>...</td>\n",
              "      <td>...</td>\n",
              "      <td>...</td>\n",
              "      <td>...</td>\n",
              "      <td>...</td>\n",
              "      <td>...</td>\n",
              "      <td>...</td>\n",
              "      <td>...</td>\n",
              "      <td>...</td>\n",
              "      <td>...</td>\n",
              "      <td>...</td>\n",
              "    </tr>\n",
              "    <tr>\n",
              "      <th>1027</th>\n",
              "      <td>0.230134</td>\n",
              "      <td>0.004107</td>\n",
              "      <td>0.023823</td>\n",
              "      <td>0.004219</td>\n",
              "      <td>ExtraTreesRegressor()</td>\n",
              "      <td>NaN</td>\n",
              "      <td>260</td>\n",
              "      <td>6</td>\n",
              "      <td>{'regressor': ExtraTreesRegressor(), 'regresso...</td>\n",
              "      <td>-6.119672</td>\n",
              "      <td>-5.763537</td>\n",
              "      <td>-4.085090</td>\n",
              "      <td>-4.514271</td>\n",
              "      <td>-5.120643</td>\n",
              "      <td>0.844309</td>\n",
              "      <td>540</td>\n",
              "    </tr>\n",
              "    <tr>\n",
              "      <th>1028</th>\n",
              "      <td>0.238359</td>\n",
              "      <td>0.005692</td>\n",
              "      <td>0.023775</td>\n",
              "      <td>0.001860</td>\n",
              "      <td>ExtraTreesRegressor()</td>\n",
              "      <td>NaN</td>\n",
              "      <td>270</td>\n",
              "      <td>6</td>\n",
              "      <td>{'regressor': ExtraTreesRegressor(), 'regresso...</td>\n",
              "      <td>-6.117673</td>\n",
              "      <td>-5.824065</td>\n",
              "      <td>-4.078423</td>\n",
              "      <td>-4.475869</td>\n",
              "      <td>-5.124008</td>\n",
              "      <td>0.864694</td>\n",
              "      <td>543</td>\n",
              "    </tr>\n",
              "    <tr>\n",
              "      <th>1029</th>\n",
              "      <td>0.244216</td>\n",
              "      <td>0.004866</td>\n",
              "      <td>0.023133</td>\n",
              "      <td>0.000442</td>\n",
              "      <td>ExtraTreesRegressor()</td>\n",
              "      <td>NaN</td>\n",
              "      <td>280</td>\n",
              "      <td>6</td>\n",
              "      <td>{'regressor': ExtraTreesRegressor(), 'regresso...</td>\n",
              "      <td>-6.101464</td>\n",
              "      <td>-5.728205</td>\n",
              "      <td>-4.142120</td>\n",
              "      <td>-4.560841</td>\n",
              "      <td>-5.133158</td>\n",
              "      <td>0.806443</td>\n",
              "      <td>549</td>\n",
              "    </tr>\n",
              "    <tr>\n",
              "      <th>1030</th>\n",
              "      <td>0.250832</td>\n",
              "      <td>0.005092</td>\n",
              "      <td>0.024677</td>\n",
              "      <td>0.001365</td>\n",
              "      <td>ExtraTreesRegressor()</td>\n",
              "      <td>NaN</td>\n",
              "      <td>290</td>\n",
              "      <td>6</td>\n",
              "      <td>{'regressor': ExtraTreesRegressor(), 'regresso...</td>\n",
              "      <td>-6.126766</td>\n",
              "      <td>-5.849944</td>\n",
              "      <td>-4.094176</td>\n",
              "      <td>-4.546865</td>\n",
              "      <td>-5.154438</td>\n",
              "      <td>0.854759</td>\n",
              "      <td>559</td>\n",
              "    </tr>\n",
              "    <tr>\n",
              "      <th>1031</th>\n",
              "      <td>0.258717</td>\n",
              "      <td>0.005365</td>\n",
              "      <td>0.025233</td>\n",
              "      <td>0.002099</td>\n",
              "      <td>ExtraTreesRegressor()</td>\n",
              "      <td>NaN</td>\n",
              "      <td>300</td>\n",
              "      <td>6</td>\n",
              "      <td>{'regressor': ExtraTreesRegressor(), 'regresso...</td>\n",
              "      <td>-6.084998</td>\n",
              "      <td>-5.755216</td>\n",
              "      <td>-4.111051</td>\n",
              "      <td>-4.493963</td>\n",
              "      <td>-5.111307</td>\n",
              "      <td>0.828299</td>\n",
              "      <td>537</td>\n",
              "    </tr>\n",
              "  </tbody>\n",
              "</table>\n",
              "<p>1032 rows × 16 columns</p>\n",
              "</div>\n",
              "      <button class=\"colab-df-convert\" onclick=\"convertToInteractive('df-cfea5fa0-f789-4955-ba9b-a16911e3ebea')\"\n",
              "              title=\"Convert this dataframe to an interactive table.\"\n",
              "              style=\"display:none;\">\n",
              "        \n",
              "  <svg xmlns=\"http://www.w3.org/2000/svg\" height=\"24px\"viewBox=\"0 0 24 24\"\n",
              "       width=\"24px\">\n",
              "    <path d=\"M0 0h24v24H0V0z\" fill=\"none\"/>\n",
              "    <path d=\"M18.56 5.44l.94 2.06.94-2.06 2.06-.94-2.06-.94-.94-2.06-.94 2.06-2.06.94zm-11 1L8.5 8.5l.94-2.06 2.06-.94-2.06-.94L8.5 2.5l-.94 2.06-2.06.94zm10 10l.94 2.06.94-2.06 2.06-.94-2.06-.94-.94-2.06-.94 2.06-2.06.94z\"/><path d=\"M17.41 7.96l-1.37-1.37c-.4-.4-.92-.59-1.43-.59-.52 0-1.04.2-1.43.59L10.3 9.45l-7.72 7.72c-.78.78-.78 2.05 0 2.83L4 21.41c.39.39.9.59 1.41.59.51 0 1.02-.2 1.41-.59l7.78-7.78 2.81-2.81c.8-.78.8-2.07 0-2.86zM5.41 20L4 18.59l7.72-7.72 1.47 1.35L5.41 20z\"/>\n",
              "  </svg>\n",
              "      </button>\n",
              "      \n",
              "  <style>\n",
              "    .colab-df-container {\n",
              "      display:flex;\n",
              "      flex-wrap:wrap;\n",
              "      gap: 12px;\n",
              "    }\n",
              "\n",
              "    .colab-df-convert {\n",
              "      background-color: #E8F0FE;\n",
              "      border: none;\n",
              "      border-radius: 50%;\n",
              "      cursor: pointer;\n",
              "      display: none;\n",
              "      fill: #1967D2;\n",
              "      height: 32px;\n",
              "      padding: 0 0 0 0;\n",
              "      width: 32px;\n",
              "    }\n",
              "\n",
              "    .colab-df-convert:hover {\n",
              "      background-color: #E2EBFA;\n",
              "      box-shadow: 0px 1px 2px rgba(60, 64, 67, 0.3), 0px 1px 3px 1px rgba(60, 64, 67, 0.15);\n",
              "      fill: #174EA6;\n",
              "    }\n",
              "\n",
              "    [theme=dark] .colab-df-convert {\n",
              "      background-color: #3B4455;\n",
              "      fill: #D2E3FC;\n",
              "    }\n",
              "\n",
              "    [theme=dark] .colab-df-convert:hover {\n",
              "      background-color: #434B5C;\n",
              "      box-shadow: 0px 1px 3px 1px rgba(0, 0, 0, 0.15);\n",
              "      filter: drop-shadow(0px 1px 2px rgba(0, 0, 0, 0.3));\n",
              "      fill: #FFFFFF;\n",
              "    }\n",
              "  </style>\n",
              "\n",
              "      <script>\n",
              "        const buttonEl =\n",
              "          document.querySelector('#df-cfea5fa0-f789-4955-ba9b-a16911e3ebea button.colab-df-convert');\n",
              "        buttonEl.style.display =\n",
              "          google.colab.kernel.accessAllowed ? 'block' : 'none';\n",
              "\n",
              "        async function convertToInteractive(key) {\n",
              "          const element = document.querySelector('#df-cfea5fa0-f789-4955-ba9b-a16911e3ebea');\n",
              "          const dataTable =\n",
              "            await google.colab.kernel.invokeFunction('convertToInteractive',\n",
              "                                                     [key], {});\n",
              "          if (!dataTable) return;\n",
              "\n",
              "          const docLinkHtml = 'Like what you see? Visit the ' +\n",
              "            '<a target=\"_blank\" href=https://colab.research.google.com/notebooks/data_table.ipynb>data table notebook</a>'\n",
              "            + ' to learn more about interactive tables.';\n",
              "          element.innerHTML = '';\n",
              "          dataTable['output_type'] = 'display_data';\n",
              "          await google.colab.output.renderOutput(dataTable, element);\n",
              "          const docLink = document.createElement('div');\n",
              "          docLink.innerHTML = docLinkHtml;\n",
              "          element.appendChild(docLink);\n",
              "        }\n",
              "      </script>\n",
              "    </div>\n",
              "  </div>\n",
              "  "
            ]
          },
          "metadata": {},
          "execution_count": 89
        }
      ]
    },
    {
      "cell_type": "code",
      "source": [
        "cv_results.sort_values('rank_test_score')"
      ],
      "metadata": {
        "colab": {
          "base_uri": "https://localhost:8080/",
          "height": 661
        },
        "id": "vFP67U16FQTx",
        "outputId": "5b151d63-c146-4c78-d613-cf16cf4cea8b"
      },
      "execution_count": null,
      "outputs": [
        {
          "output_type": "execute_result",
          "data": {
            "text/plain": [
              "     mean_fit_time  std_fit_time  mean_score_time  std_score_time  \\\n",
              "232       0.371076      0.243312         0.001424        0.000207   \n",
              "223       0.130904      0.001277         0.001135        0.000015   \n",
              "230       0.170155      0.004661         0.001358        0.000088   \n",
              "220       0.105185      0.001552         0.001050        0.000014   \n",
              "224       0.133862      0.003006         0.001248        0.000171   \n",
              "..             ...           ...              ...             ...   \n",
              "890       0.136226      0.003715         0.016431        0.002993   \n",
              "888       0.122060      0.001032         0.014549        0.002905   \n",
              "896       0.185811      0.001296         0.024741        0.006376   \n",
              "877       0.045321      0.001726         0.005789        0.000598   \n",
              "883       0.091218      0.003086         0.011339        0.002082   \n",
              "\n",
              "                                       param_regressor  \\\n",
              "232  GradientBoostingRegressor(learning_rate=0.09, ...   \n",
              "223  GradientBoostingRegressor(learning_rate=0.09, ...   \n",
              "230  GradientBoostingRegressor(learning_rate=0.09, ...   \n",
              "220  GradientBoostingRegressor(learning_rate=0.09, ...   \n",
              "224  GradientBoostingRegressor(learning_rate=0.09, ...   \n",
              "..                                                 ...   \n",
              "890                              ExtraTreesRegressor()   \n",
              "888                              ExtraTreesRegressor()   \n",
              "896                              ExtraTreesRegressor()   \n",
              "877                              ExtraTreesRegressor()   \n",
              "883                              ExtraTreesRegressor()   \n",
              "\n",
              "    param_regressor__learning_rate param_regressor__n_estimators  \\\n",
              "232                           0.09                           290   \n",
              "223                           0.09                           200   \n",
              "230                           0.09                           270   \n",
              "220                           0.09                           170   \n",
              "224                           0.09                           210   \n",
              "..                             ...                           ...   \n",
              "890                            NaN                           190   \n",
              "888                            NaN                           170   \n",
              "896                            NaN                           250   \n",
              "877                            NaN                            60   \n",
              "883                            NaN                           120   \n",
              "\n",
              "    param_regressor__max_depth  \\\n",
              "232                        NaN   \n",
              "223                        NaN   \n",
              "230                        NaN   \n",
              "220                        NaN   \n",
              "224                        NaN   \n",
              "..                         ...   \n",
              "890                          1   \n",
              "888                          1   \n",
              "896                          1   \n",
              "877                          1   \n",
              "883                          1   \n",
              "\n",
              "                                                params  split0_test_score  \\\n",
              "232  {'regressor': GradientBoostingRegressor(learni...          -5.621334   \n",
              "223  {'regressor': GradientBoostingRegressor(learni...          -5.615183   \n",
              "230  {'regressor': GradientBoostingRegressor(learni...          -5.652786   \n",
              "220  {'regressor': GradientBoostingRegressor(learni...          -5.611417   \n",
              "224  {'regressor': GradientBoostingRegressor(learni...          -5.636236   \n",
              "..                                                 ...                ...   \n",
              "890  {'regressor': ExtraTreesRegressor(), 'regresso...          -8.940545   \n",
              "888  {'regressor': ExtraTreesRegressor(), 'regresso...          -8.903869   \n",
              "896  {'regressor': ExtraTreesRegressor(), 'regresso...          -8.910952   \n",
              "877  {'regressor': ExtraTreesRegressor(), 'regresso...          -8.893305   \n",
              "883  {'regressor': ExtraTreesRegressor(), 'regresso...          -8.921614   \n",
              "\n",
              "     split1_test_score  split2_test_score  split3_test_score  mean_test_score  \\\n",
              "232          -4.770302          -3.948259          -4.499883        -4.709944   \n",
              "223          -4.802083          -4.018506          -4.463835        -4.724902   \n",
              "230          -4.789719          -3.976259          -4.490816        -4.727395   \n",
              "220          -4.930121          -3.960698          -4.412005        -4.728561   \n",
              "224          -4.822799          -4.013616          -4.463929        -4.734145   \n",
              "..                 ...                ...                ...              ...   \n",
              "890          -8.457717          -6.610356          -7.902996        -7.977904   \n",
              "888          -8.498658          -6.607670          -7.906874        -7.979268   \n",
              "896          -8.503656          -6.620958          -7.890783        -7.981587   \n",
              "877          -8.400886          -6.701987          -7.933514        -7.982423   \n",
              "883          -8.579682          -6.580777          -7.888210        -7.992571   \n",
              "\n",
              "     std_test_score  rank_test_score  \n",
              "232        0.603855                1  \n",
              "223        0.584317                2  \n",
              "230        0.608360                3  \n",
              "220        0.614386                4  \n",
              "224        0.594518                5  \n",
              "..              ...              ...  \n",
              "890        0.870732             1028  \n",
              "888        0.867637             1029  \n",
              "896        0.865424             1030  \n",
              "877        0.813438             1031  \n",
              "883        0.896085             1032  \n",
              "\n",
              "[1032 rows x 16 columns]"
            ],
            "text/html": [
              "\n",
              "  <div id=\"df-07fd85c7-907b-4c96-ac59-dc436180a7d3\">\n",
              "    <div class=\"colab-df-container\">\n",
              "      <div>\n",
              "<style scoped>\n",
              "    .dataframe tbody tr th:only-of-type {\n",
              "        vertical-align: middle;\n",
              "    }\n",
              "\n",
              "    .dataframe tbody tr th {\n",
              "        vertical-align: top;\n",
              "    }\n",
              "\n",
              "    .dataframe thead th {\n",
              "        text-align: right;\n",
              "    }\n",
              "</style>\n",
              "<table border=\"1\" class=\"dataframe\">\n",
              "  <thead>\n",
              "    <tr style=\"text-align: right;\">\n",
              "      <th></th>\n",
              "      <th>mean_fit_time</th>\n",
              "      <th>std_fit_time</th>\n",
              "      <th>mean_score_time</th>\n",
              "      <th>std_score_time</th>\n",
              "      <th>param_regressor</th>\n",
              "      <th>param_regressor__learning_rate</th>\n",
              "      <th>param_regressor__n_estimators</th>\n",
              "      <th>param_regressor__max_depth</th>\n",
              "      <th>params</th>\n",
              "      <th>split0_test_score</th>\n",
              "      <th>split1_test_score</th>\n",
              "      <th>split2_test_score</th>\n",
              "      <th>split3_test_score</th>\n",
              "      <th>mean_test_score</th>\n",
              "      <th>std_test_score</th>\n",
              "      <th>rank_test_score</th>\n",
              "    </tr>\n",
              "  </thead>\n",
              "  <tbody>\n",
              "    <tr>\n",
              "      <th>232</th>\n",
              "      <td>0.371076</td>\n",
              "      <td>0.243312</td>\n",
              "      <td>0.001424</td>\n",
              "      <td>0.000207</td>\n",
              "      <td>GradientBoostingRegressor(learning_rate=0.09, ...</td>\n",
              "      <td>0.09</td>\n",
              "      <td>290</td>\n",
              "      <td>NaN</td>\n",
              "      <td>{'regressor': GradientBoostingRegressor(learni...</td>\n",
              "      <td>-5.621334</td>\n",
              "      <td>-4.770302</td>\n",
              "      <td>-3.948259</td>\n",
              "      <td>-4.499883</td>\n",
              "      <td>-4.709944</td>\n",
              "      <td>0.603855</td>\n",
              "      <td>1</td>\n",
              "    </tr>\n",
              "    <tr>\n",
              "      <th>223</th>\n",
              "      <td>0.130904</td>\n",
              "      <td>0.001277</td>\n",
              "      <td>0.001135</td>\n",
              "      <td>0.000015</td>\n",
              "      <td>GradientBoostingRegressor(learning_rate=0.09, ...</td>\n",
              "      <td>0.09</td>\n",
              "      <td>200</td>\n",
              "      <td>NaN</td>\n",
              "      <td>{'regressor': GradientBoostingRegressor(learni...</td>\n",
              "      <td>-5.615183</td>\n",
              "      <td>-4.802083</td>\n",
              "      <td>-4.018506</td>\n",
              "      <td>-4.463835</td>\n",
              "      <td>-4.724902</td>\n",
              "      <td>0.584317</td>\n",
              "      <td>2</td>\n",
              "    </tr>\n",
              "    <tr>\n",
              "      <th>230</th>\n",
              "      <td>0.170155</td>\n",
              "      <td>0.004661</td>\n",
              "      <td>0.001358</td>\n",
              "      <td>0.000088</td>\n",
              "      <td>GradientBoostingRegressor(learning_rate=0.09, ...</td>\n",
              "      <td>0.09</td>\n",
              "      <td>270</td>\n",
              "      <td>NaN</td>\n",
              "      <td>{'regressor': GradientBoostingRegressor(learni...</td>\n",
              "      <td>-5.652786</td>\n",
              "      <td>-4.789719</td>\n",
              "      <td>-3.976259</td>\n",
              "      <td>-4.490816</td>\n",
              "      <td>-4.727395</td>\n",
              "      <td>0.608360</td>\n",
              "      <td>3</td>\n",
              "    </tr>\n",
              "    <tr>\n",
              "      <th>220</th>\n",
              "      <td>0.105185</td>\n",
              "      <td>0.001552</td>\n",
              "      <td>0.001050</td>\n",
              "      <td>0.000014</td>\n",
              "      <td>GradientBoostingRegressor(learning_rate=0.09, ...</td>\n",
              "      <td>0.09</td>\n",
              "      <td>170</td>\n",
              "      <td>NaN</td>\n",
              "      <td>{'regressor': GradientBoostingRegressor(learni...</td>\n",
              "      <td>-5.611417</td>\n",
              "      <td>-4.930121</td>\n",
              "      <td>-3.960698</td>\n",
              "      <td>-4.412005</td>\n",
              "      <td>-4.728561</td>\n",
              "      <td>0.614386</td>\n",
              "      <td>4</td>\n",
              "    </tr>\n",
              "    <tr>\n",
              "      <th>224</th>\n",
              "      <td>0.133862</td>\n",
              "      <td>0.003006</td>\n",
              "      <td>0.001248</td>\n",
              "      <td>0.000171</td>\n",
              "      <td>GradientBoostingRegressor(learning_rate=0.09, ...</td>\n",
              "      <td>0.09</td>\n",
              "      <td>210</td>\n",
              "      <td>NaN</td>\n",
              "      <td>{'regressor': GradientBoostingRegressor(learni...</td>\n",
              "      <td>-5.636236</td>\n",
              "      <td>-4.822799</td>\n",
              "      <td>-4.013616</td>\n",
              "      <td>-4.463929</td>\n",
              "      <td>-4.734145</td>\n",
              "      <td>0.594518</td>\n",
              "      <td>5</td>\n",
              "    </tr>\n",
              "    <tr>\n",
              "      <th>...</th>\n",
              "      <td>...</td>\n",
              "      <td>...</td>\n",
              "      <td>...</td>\n",
              "      <td>...</td>\n",
              "      <td>...</td>\n",
              "      <td>...</td>\n",
              "      <td>...</td>\n",
              "      <td>...</td>\n",
              "      <td>...</td>\n",
              "      <td>...</td>\n",
              "      <td>...</td>\n",
              "      <td>...</td>\n",
              "      <td>...</td>\n",
              "      <td>...</td>\n",
              "      <td>...</td>\n",
              "      <td>...</td>\n",
              "    </tr>\n",
              "    <tr>\n",
              "      <th>890</th>\n",
              "      <td>0.136226</td>\n",
              "      <td>0.003715</td>\n",
              "      <td>0.016431</td>\n",
              "      <td>0.002993</td>\n",
              "      <td>ExtraTreesRegressor()</td>\n",
              "      <td>NaN</td>\n",
              "      <td>190</td>\n",
              "      <td>1</td>\n",
              "      <td>{'regressor': ExtraTreesRegressor(), 'regresso...</td>\n",
              "      <td>-8.940545</td>\n",
              "      <td>-8.457717</td>\n",
              "      <td>-6.610356</td>\n",
              "      <td>-7.902996</td>\n",
              "      <td>-7.977904</td>\n",
              "      <td>0.870732</td>\n",
              "      <td>1028</td>\n",
              "    </tr>\n",
              "    <tr>\n",
              "      <th>888</th>\n",
              "      <td>0.122060</td>\n",
              "      <td>0.001032</td>\n",
              "      <td>0.014549</td>\n",
              "      <td>0.002905</td>\n",
              "      <td>ExtraTreesRegressor()</td>\n",
              "      <td>NaN</td>\n",
              "      <td>170</td>\n",
              "      <td>1</td>\n",
              "      <td>{'regressor': ExtraTreesRegressor(), 'regresso...</td>\n",
              "      <td>-8.903869</td>\n",
              "      <td>-8.498658</td>\n",
              "      <td>-6.607670</td>\n",
              "      <td>-7.906874</td>\n",
              "      <td>-7.979268</td>\n",
              "      <td>0.867637</td>\n",
              "      <td>1029</td>\n",
              "    </tr>\n",
              "    <tr>\n",
              "      <th>896</th>\n",
              "      <td>0.185811</td>\n",
              "      <td>0.001296</td>\n",
              "      <td>0.024741</td>\n",
              "      <td>0.006376</td>\n",
              "      <td>ExtraTreesRegressor()</td>\n",
              "      <td>NaN</td>\n",
              "      <td>250</td>\n",
              "      <td>1</td>\n",
              "      <td>{'regressor': ExtraTreesRegressor(), 'regresso...</td>\n",
              "      <td>-8.910952</td>\n",
              "      <td>-8.503656</td>\n",
              "      <td>-6.620958</td>\n",
              "      <td>-7.890783</td>\n",
              "      <td>-7.981587</td>\n",
              "      <td>0.865424</td>\n",
              "      <td>1030</td>\n",
              "    </tr>\n",
              "    <tr>\n",
              "      <th>877</th>\n",
              "      <td>0.045321</td>\n",
              "      <td>0.001726</td>\n",
              "      <td>0.005789</td>\n",
              "      <td>0.000598</td>\n",
              "      <td>ExtraTreesRegressor()</td>\n",
              "      <td>NaN</td>\n",
              "      <td>60</td>\n",
              "      <td>1</td>\n",
              "      <td>{'regressor': ExtraTreesRegressor(), 'regresso...</td>\n",
              "      <td>-8.893305</td>\n",
              "      <td>-8.400886</td>\n",
              "      <td>-6.701987</td>\n",
              "      <td>-7.933514</td>\n",
              "      <td>-7.982423</td>\n",
              "      <td>0.813438</td>\n",
              "      <td>1031</td>\n",
              "    </tr>\n",
              "    <tr>\n",
              "      <th>883</th>\n",
              "      <td>0.091218</td>\n",
              "      <td>0.003086</td>\n",
              "      <td>0.011339</td>\n",
              "      <td>0.002082</td>\n",
              "      <td>ExtraTreesRegressor()</td>\n",
              "      <td>NaN</td>\n",
              "      <td>120</td>\n",
              "      <td>1</td>\n",
              "      <td>{'regressor': ExtraTreesRegressor(), 'regresso...</td>\n",
              "      <td>-8.921614</td>\n",
              "      <td>-8.579682</td>\n",
              "      <td>-6.580777</td>\n",
              "      <td>-7.888210</td>\n",
              "      <td>-7.992571</td>\n",
              "      <td>0.896085</td>\n",
              "      <td>1032</td>\n",
              "    </tr>\n",
              "  </tbody>\n",
              "</table>\n",
              "<p>1032 rows × 16 columns</p>\n",
              "</div>\n",
              "      <button class=\"colab-df-convert\" onclick=\"convertToInteractive('df-07fd85c7-907b-4c96-ac59-dc436180a7d3')\"\n",
              "              title=\"Convert this dataframe to an interactive table.\"\n",
              "              style=\"display:none;\">\n",
              "        \n",
              "  <svg xmlns=\"http://www.w3.org/2000/svg\" height=\"24px\"viewBox=\"0 0 24 24\"\n",
              "       width=\"24px\">\n",
              "    <path d=\"M0 0h24v24H0V0z\" fill=\"none\"/>\n",
              "    <path d=\"M18.56 5.44l.94 2.06.94-2.06 2.06-.94-2.06-.94-.94-2.06-.94 2.06-2.06.94zm-11 1L8.5 8.5l.94-2.06 2.06-.94-2.06-.94L8.5 2.5l-.94 2.06-2.06.94zm10 10l.94 2.06.94-2.06 2.06-.94-2.06-.94-.94-2.06-.94 2.06-2.06.94z\"/><path d=\"M17.41 7.96l-1.37-1.37c-.4-.4-.92-.59-1.43-.59-.52 0-1.04.2-1.43.59L10.3 9.45l-7.72 7.72c-.78.78-.78 2.05 0 2.83L4 21.41c.39.39.9.59 1.41.59.51 0 1.02-.2 1.41-.59l7.78-7.78 2.81-2.81c.8-.78.8-2.07 0-2.86zM5.41 20L4 18.59l7.72-7.72 1.47 1.35L5.41 20z\"/>\n",
              "  </svg>\n",
              "      </button>\n",
              "      \n",
              "  <style>\n",
              "    .colab-df-container {\n",
              "      display:flex;\n",
              "      flex-wrap:wrap;\n",
              "      gap: 12px;\n",
              "    }\n",
              "\n",
              "    .colab-df-convert {\n",
              "      background-color: #E8F0FE;\n",
              "      border: none;\n",
              "      border-radius: 50%;\n",
              "      cursor: pointer;\n",
              "      display: none;\n",
              "      fill: #1967D2;\n",
              "      height: 32px;\n",
              "      padding: 0 0 0 0;\n",
              "      width: 32px;\n",
              "    }\n",
              "\n",
              "    .colab-df-convert:hover {\n",
              "      background-color: #E2EBFA;\n",
              "      box-shadow: 0px 1px 2px rgba(60, 64, 67, 0.3), 0px 1px 3px 1px rgba(60, 64, 67, 0.15);\n",
              "      fill: #174EA6;\n",
              "    }\n",
              "\n",
              "    [theme=dark] .colab-df-convert {\n",
              "      background-color: #3B4455;\n",
              "      fill: #D2E3FC;\n",
              "    }\n",
              "\n",
              "    [theme=dark] .colab-df-convert:hover {\n",
              "      background-color: #434B5C;\n",
              "      box-shadow: 0px 1px 3px 1px rgba(0, 0, 0, 0.15);\n",
              "      filter: drop-shadow(0px 1px 2px rgba(0, 0, 0, 0.3));\n",
              "      fill: #FFFFFF;\n",
              "    }\n",
              "  </style>\n",
              "\n",
              "      <script>\n",
              "        const buttonEl =\n",
              "          document.querySelector('#df-07fd85c7-907b-4c96-ac59-dc436180a7d3 button.colab-df-convert');\n",
              "        buttonEl.style.display =\n",
              "          google.colab.kernel.accessAllowed ? 'block' : 'none';\n",
              "\n",
              "        async function convertToInteractive(key) {\n",
              "          const element = document.querySelector('#df-07fd85c7-907b-4c96-ac59-dc436180a7d3');\n",
              "          const dataTable =\n",
              "            await google.colab.kernel.invokeFunction('convertToInteractive',\n",
              "                                                     [key], {});\n",
              "          if (!dataTable) return;\n",
              "\n",
              "          const docLinkHtml = 'Like what you see? Visit the ' +\n",
              "            '<a target=\"_blank\" href=https://colab.research.google.com/notebooks/data_table.ipynb>data table notebook</a>'\n",
              "            + ' to learn more about interactive tables.';\n",
              "          element.innerHTML = '';\n",
              "          dataTable['output_type'] = 'display_data';\n",
              "          await google.colab.output.renderOutput(dataTable, element);\n",
              "          const docLink = document.createElement('div');\n",
              "          docLink.innerHTML = docLinkHtml;\n",
              "          element.appendChild(docLink);\n",
              "        }\n",
              "      </script>\n",
              "    </div>\n",
              "  </div>\n",
              "  "
            ]
          },
          "metadata": {},
          "execution_count": 90
        }
      ]
    },
    {
      "cell_type": "markdown",
      "source": [
        "## Feature selection"
      ],
      "metadata": {
        "id": "uF3niHbTOntg"
      }
    },
    {
      "cell_type": "code",
      "source": [
        "sfs = SequentialFeatureSelector(GradientBoostingRegressor(learning_rate=0.09, n_estimators=290),\n",
        "                                n_features_to_select=5,\n",
        "                                direction='backward',\n",
        "                                cv=5)"
      ],
      "metadata": {
        "id": "iKuJ1bGLY2xd"
      },
      "execution_count": null,
      "outputs": []
    },
    {
      "cell_type": "code",
      "source": [
        "sfs.fit(X_train, \n",
        "        Y_train)"
      ],
      "metadata": {
        "colab": {
          "base_uri": "https://localhost:8080/"
        },
        "id": "93_kh5pXZAn2",
        "outputId": "aaa14da2-917f-4640-c9ab-bd14b14c77bd"
      },
      "execution_count": null,
      "outputs": [
        {
          "output_type": "execute_result",
          "data": {
            "text/plain": [
              "SequentialFeatureSelector(direction='backward',\n",
              "                          estimator=GradientBoostingRegressor(learning_rate=0.09,\n",
              "                                                              n_estimators=290),\n",
              "                          n_features_to_select=5)"
            ]
          },
          "metadata": {},
          "execution_count": 92
        }
      ]
    },
    {
      "cell_type": "code",
      "source": [
        "sfs.get_feature_names_out()"
      ],
      "metadata": {
        "colab": {
          "base_uri": "https://localhost:8080/"
        },
        "id": "thHdHJ9ddlpa",
        "outputId": "f476e6e4-afc2-4e36-e61e-2173aac3ea4b"
      },
      "execution_count": null,
      "outputs": [
        {
          "output_type": "execute_result",
          "data": {
            "text/plain": [
              "array(['NOX', 'RM', 'DIS', 'PTRATIO', 'LSTAT'], dtype=object)"
            ]
          },
          "metadata": {},
          "execution_count": 93
        }
      ]
    },
    {
      "cell_type": "markdown",
      "source": [
        "## Model Training"
      ],
      "metadata": {
        "id": "7Jnoc1TaOtt6"
      }
    },
    {
      "cell_type": "code",
      "source": [
        "reg = GradientBoostingRegressor(learning_rate=0.16, n_estimators=90)"
      ],
      "metadata": {
        "id": "5HDwsNHgeNID"
      },
      "execution_count": null,
      "outputs": []
    },
    {
      "cell_type": "code",
      "source": [
        "reg = GradientBoostingRegressor(learning_rate=0.09, n_estimators=290)"
      ],
      "metadata": {
        "id": "LTIyW3ZLOTWw"
      },
      "execution_count": null,
      "outputs": []
    },
    {
      "cell_type": "code",
      "source": [
        "reg.fit(sfs.transform(X_train), Y_train)"
      ],
      "metadata": {
        "colab": {
          "base_uri": "https://localhost:8080/"
        },
        "id": "INtLankgfNew",
        "outputId": "6ac7edaa-5e12-44cc-cd99-30d0bce8a909"
      },
      "execution_count": null,
      "outputs": [
        {
          "output_type": "execute_result",
          "data": {
            "text/plain": [
              "GradientBoostingRegressor(learning_rate=0.09, n_estimators=290)"
            ]
          },
          "metadata": {},
          "execution_count": 96
        }
      ]
    },
    {
      "cell_type": "code",
      "source": [
        "plt.figure(figsize=(10, 10))\n",
        "plt.ylabel('Score')\n",
        "plt.xlabel('Iterações')\n",
        "plt.plot(reg.train_score_)"
      ],
      "metadata": {
        "id": "Mb4mKKZtfhxf",
        "colab": {
          "base_uri": "https://localhost:8080/",
          "height": 623
        },
        "outputId": "05676f22-22d9-4923-ed08-9ee4c6f8418c"
      },
      "execution_count": null,
      "outputs": [
        {
          "output_type": "execute_result",
          "data": {
            "text/plain": [
              "[<matplotlib.lines.Line2D at 0x7efd9aa39690>]"
            ]
          },
          "metadata": {},
          "execution_count": 97
        },
        {
          "output_type": "display_data",
          "data": {
            "text/plain": [
              "<Figure size 720x720 with 1 Axes>"
            ],
            "image/png": "[encoded data removed]"
          },
          "metadata": {
            "needs_background": "light"
          }
        }
      ]
    },
    {
      "cell_type": "code",
      "source": [
        "reg.score(sfs.transform(X_test), Y_test)"
      ],
      "metadata": {
        "colab": {
          "base_uri": "https://localhost:8080/"
        },
        "id": "5fKjS3llvqUo",
        "outputId": "273a631e-4361-4c81-8a2d-076e2a9ba1e4"
      },
      "execution_count": null,
      "outputs": [
        {
          "output_type": "execute_result",
          "data": {
            "text/plain": [
              "0.9202150669811947"
            ]
          },
          "metadata": {},
          "execution_count": 99
        }
      ]
    },
    {
      "cell_type": "code",
      "source": [
        "Y_pred = reg.predict(sfs.transform(X_test))"
      ],
      "metadata": {
        "id": "BtmAMAg5fU2G"
      },
      "execution_count": null,
      "outputs": []
    },
    {
      "cell_type": "code",
      "source": [
        "mse = mean_squared_error(Y_pred, Y_test)\n",
        "mse"
      ],
      "metadata": {
        "colab": {
          "base_uri": "https://localhost:8080/"
        },
        "id": "veRoVYEHhIVt",
        "outputId": "434b6a22-fc20-4458-ba15-a72928217062"
      },
      "execution_count": null,
      "outputs": [
        {
          "output_type": "execute_result",
          "data": {
            "text/plain": [
              "6.612994878696121"
            ]
          },
          "metadata": {},
          "execution_count": 104
        }
      ]
    },
    {
      "cell_type": "code",
      "source": [
        "f = plt.figure(2, figsize=(16, 8))\n",
        "plt.ylabel('Prices')\n",
        "plt.xlabel('Samples')\n",
        "plt.plot(np.array(Y_test), label='Test')\n",
        "plt.plot(Y_pred, label='Pred')\n",
        "plt.legend()"
      ],
      "metadata": {
        "colab": {
          "base_uri": "https://localhost:8080/",
          "height": 514
        },
        "id": "Axu3Ab4_maYy",
        "outputId": "ed806976-42f3-48d3-b589-eb4aa96a0e43"
      },
      "execution_count": null,
      "outputs": [
        {
          "output_type": "execute_result",
          "data": {
            "text/plain": [
              "<matplotlib.legend.Legend at 0x7efd9ac87a50>"
            ]
          },
          "metadata": {},
          "execution_count": 105
        },
        {
          "output_type": "display_data",
          "data": {
            "text/plain": [
              "<Figure size 1152x576 with 1 Axes>"
            ],
            "image/png": "[encoded data removed]"
          },
          "metadata": {
            "needs_background": "light"
          }
        }
      ]
    }
  ]
}